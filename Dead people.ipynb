{
 "cells": [
  {
   "cell_type": "code",
   "execution_count": 2,
   "metadata": {},
   "outputs": [],
   "source": [
    "import pandas as pd\n",
    "cl =  'clinical.tsv'\n",
    "samples = pd.read_csv(cl, sep='\\t')"
   ]
  },
  {
   "cell_type": "code",
   "execution_count": 126,
   "metadata": {},
   "outputs": [],
   "source": [
    "dead = samples[samples['vital_status'].str.match('Dead')]\n",
    "#dead.to_csv('dead_people.csv', index=True)"
   ]
  },
  {
   "cell_type": "code",
   "execution_count": 4,
   "metadata": {},
   "outputs": [],
   "source": [
    "TCGA_names = dead['case_submitter_id'].to_list()\n",
    "days = dead['days_to_death'].to_list()"
   ]
  },
  {
   "cell_type": "code",
   "execution_count": 5,
   "metadata": {},
   "outputs": [],
   "source": [
    "d = {'TCGA':TCGA_names,'Days':days}\n",
    "samples_df = pd.DataFrame(d, columns=['TCGA','Days'])\n",
    "samples_df = samples_df.set_index('TCGA')\n",
    "samples_df = samples_df.drop_duplicates()"
   ]
  },
  {
   "cell_type": "code",
   "execution_count": 29,
   "metadata": {},
   "outputs": [
    {
     "data": {
      "text/html": [
       "<div>\n",
       "<style scoped>\n",
       "    .dataframe tbody tr th:only-of-type {\n",
       "        vertical-align: middle;\n",
       "    }\n",
       "\n",
       "    .dataframe tbody tr th {\n",
       "        vertical-align: top;\n",
       "    }\n",
       "\n",
       "    .dataframe thead th {\n",
       "        text-align: right;\n",
       "    }\n",
       "</style>\n",
       "<table border=\"1\" class=\"dataframe\">\n",
       "  <thead>\n",
       "    <tr style=\"text-align: right;\">\n",
       "      <th></th>\n",
       "      <th>TCGA-3L-AA1B</th>\n",
       "      <th>TCGA-4N-A93T</th>\n",
       "      <th>TCGA-4T-AA8H</th>\n",
       "      <th>TCGA-5M-AAT4</th>\n",
       "      <th>TCGA-5M-AAT5</th>\n",
       "      <th>TCGA-5M-AAT6</th>\n",
       "      <th>TCGA-5M-AATA</th>\n",
       "      <th>TCGA-5M-AATE</th>\n",
       "      <th>TCGA-A6-2675</th>\n",
       "      <th>TCGA-A6-2682</th>\n",
       "      <th>...</th>\n",
       "      <th>TCGA-QG-A5YW</th>\n",
       "      <th>TCGA-QG-A5YX</th>\n",
       "      <th>TCGA-QG-A5Z1</th>\n",
       "      <th>TCGA-QG-A5Z2</th>\n",
       "      <th>TCGA-QL-A97D</th>\n",
       "      <th>TCGA-RU-A8FL</th>\n",
       "      <th>TCGA-SS-A7HO</th>\n",
       "      <th>TCGA-T9-A92H</th>\n",
       "      <th>TCGA-WS-AB45</th>\n",
       "      <th>Unnamed: 288</th>\n",
       "    </tr>\n",
       "    <tr>\n",
       "      <th>index</th>\n",
       "      <th></th>\n",
       "      <th></th>\n",
       "      <th></th>\n",
       "      <th></th>\n",
       "      <th></th>\n",
       "      <th></th>\n",
       "      <th></th>\n",
       "      <th></th>\n",
       "      <th></th>\n",
       "      <th></th>\n",
       "      <th></th>\n",
       "      <th></th>\n",
       "      <th></th>\n",
       "      <th></th>\n",
       "      <th></th>\n",
       "      <th></th>\n",
       "      <th></th>\n",
       "      <th></th>\n",
       "      <th></th>\n",
       "      <th></th>\n",
       "      <th></th>\n",
       "    </tr>\n",
       "  </thead>\n",
       "  <tbody>\n",
       "    <tr>\n",
       "      <th>uc001mvu</th>\n",
       "      <td>0.950711516979343</td>\n",
       "      <td>0.33634503678355104</td>\n",
       "      <td>2.33179570991506</td>\n",
       "      <td>2.48388041868446</td>\n",
       "      <td>1.989445</td>\n",
       "      <td>2.49732393213555</td>\n",
       "      <td>2.940802</td>\n",
       "      <td>1.4015979415560502</td>\n",
       "      <td>1.0297660529782</td>\n",
       "      <td>0.350084297810286</td>\n",
       "      <td>...</td>\n",
       "      <td>1.58295819768529</td>\n",
       "      <td>2.3711789868972297</td>\n",
       "      <td>1.2888618966873</td>\n",
       "      <td>1.2632505071653701</td>\n",
       "      <td>2.84720891886887</td>\n",
       "      <td>1.9896691925829801</td>\n",
       "      <td>0.379288952996855</td>\n",
       "      <td>1.0164072214275999</td>\n",
       "      <td>0.17131422058127405</td>\n",
       "      <td>NaN</td>\n",
       "    </tr>\n",
       "    <tr>\n",
       "      <th>uc001mvv</th>\n",
       "      <td>3.70434773759656</td>\n",
       "      <td>3.7664743227968995</td>\n",
       "      <td>4.9823322087709805</td>\n",
       "      <td>5.37927433289311</td>\n",
       "      <td>5.364193</td>\n",
       "      <td>5.76168716642264</td>\n",
       "      <td>4.411019</td>\n",
       "      <td>3.9370659185440697</td>\n",
       "      <td>4.9706566501862905</td>\n",
       "      <td>3.6910978248805</td>\n",
       "      <td>...</td>\n",
       "      <td>4.5318524434990195</td>\n",
       "      <td>4.706613344062291</td>\n",
       "      <td>3.76328238007294</td>\n",
       "      <td>5.03946030403015</td>\n",
       "      <td>4.28004005958758</td>\n",
       "      <td>5.9857252537709105</td>\n",
       "      <td>3.06216197611402</td>\n",
       "      <td>5.51262219173409</td>\n",
       "      <td>1.97494873806847</td>\n",
       "      <td>NaN</td>\n",
       "    </tr>\n",
       "    <tr>\n",
       "      <th>uc001mvw</th>\n",
       "      <td>7.36670964214525</td>\n",
       "      <td>6.710087071343549</td>\n",
       "      <td>7.505747921808901</td>\n",
       "      <td>7.48726611812464</td>\n",
       "      <td>7.486145</td>\n",
       "      <td>6.463028453097769</td>\n",
       "      <td>4.824345</td>\n",
       "      <td>7.22036996935157</td>\n",
       "      <td>6.69365789590222</td>\n",
       "      <td>6.408983927927389</td>\n",
       "      <td>...</td>\n",
       "      <td>7.66974089768573</td>\n",
       "      <td>6.912727568540009</td>\n",
       "      <td>7.02606534691993</td>\n",
       "      <td>7.7246773086232805</td>\n",
       "      <td>7.189190746880731</td>\n",
       "      <td>6.676762144802519</td>\n",
       "      <td>5.313982821693349</td>\n",
       "      <td>6.6201763192198895</td>\n",
       "      <td>3.1772191345352296</td>\n",
       "      <td>NaN</td>\n",
       "    </tr>\n",
       "    <tr>\n",
       "      <th>uc001mvx</th>\n",
       "      <td>3.8414821306618396</td>\n",
       "      <td>3.31244739015756</td>\n",
       "      <td>2.7249111059685296</td>\n",
       "      <td>2.1878610558432703</td>\n",
       "      <td>2.572413</td>\n",
       "      <td>4.26431771103936</td>\n",
       "      <td>2.906336</td>\n",
       "      <td>3.3920045500616003</td>\n",
       "      <td>4.80946138505642</td>\n",
       "      <td>4.80094832280598</td>\n",
       "      <td>...</td>\n",
       "      <td>3.88933665414542</td>\n",
       "      <td>2.8410832160863704</td>\n",
       "      <td>3.66961390356031</td>\n",
       "      <td>4.18210696482493</td>\n",
       "      <td>3.73632404838802</td>\n",
       "      <td>2.70279697992245</td>\n",
       "      <td>2.5118808778321</td>\n",
       "      <td>3.1083279243052404</td>\n",
       "      <td>6.71385808647318</td>\n",
       "      <td>NaN</td>\n",
       "    </tr>\n",
       "    <tr>\n",
       "      <th>uc001mwy</th>\n",
       "      <td>0.0</td>\n",
       "      <td>7.01460130236366</td>\n",
       "      <td>0.0</td>\n",
       "      <td>0.0</td>\n",
       "      <td>0.000000</td>\n",
       "      <td>0.0</td>\n",
       "      <td>0.000000</td>\n",
       "      <td>0.0</td>\n",
       "      <td>0.0</td>\n",
       "      <td>0.0</td>\n",
       "      <td>...</td>\n",
       "      <td>0.0</td>\n",
       "      <td>0.0</td>\n",
       "      <td>0.0</td>\n",
       "      <td>0.0</td>\n",
       "      <td>0.0</td>\n",
       "      <td>2.0565964709985</td>\n",
       "      <td>0.0</td>\n",
       "      <td>0.0</td>\n",
       "      <td>0.0</td>\n",
       "      <td>NaN</td>\n",
       "    </tr>\n",
       "    <tr>\n",
       "      <th>uc001mwc</th>\n",
       "      <td>1.7509548421941998</td>\n",
       "      <td>0.0</td>\n",
       "      <td>1.01467715674332</td>\n",
       "      <td>0.0</td>\n",
       "      <td>0.000000</td>\n",
       "      <td>2.0976957390696898</td>\n",
       "      <td>0.498838</td>\n",
       "      <td>0.0</td>\n",
       "      <td>1.3337836218415802</td>\n",
       "      <td>2.2845255811506404</td>\n",
       "      <td>...</td>\n",
       "      <td>2.08290659040898</td>\n",
       "      <td>0.0</td>\n",
       "      <td>1.4426210235030499</td>\n",
       "      <td>1.8987568320667498</td>\n",
       "      <td>0.8443096773053421</td>\n",
       "      <td>1.51818477104487</td>\n",
       "      <td>0.0</td>\n",
       "      <td>0.0</td>\n",
       "      <td>4.4013624980104895</td>\n",
       "      <td>NaN</td>\n",
       "    </tr>\n",
       "    <tr>\n",
       "      <th>uc010rer</th>\n",
       "      <td>0.0</td>\n",
       "      <td>0.0</td>\n",
       "      <td>0.0</td>\n",
       "      <td>0.0</td>\n",
       "      <td>0.000000</td>\n",
       "      <td>0.0</td>\n",
       "      <td>0.000000</td>\n",
       "      <td>0.0</td>\n",
       "      <td>0.0</td>\n",
       "      <td>0.0</td>\n",
       "      <td>...</td>\n",
       "      <td>0.0</td>\n",
       "      <td>0.0</td>\n",
       "      <td>0.0</td>\n",
       "      <td>0.0</td>\n",
       "      <td>0.0</td>\n",
       "      <td>0.0</td>\n",
       "      <td>0.88346753180998</td>\n",
       "      <td>0.0</td>\n",
       "      <td>0.0</td>\n",
       "      <td>NaN</td>\n",
       "    </tr>\n",
       "  </tbody>\n",
       "</table>\n",
       "<p>7 rows × 288 columns</p>\n",
       "</div>"
      ],
      "text/plain": [
       "                TCGA-3L-AA1B         TCGA-4N-A93T        TCGA-4T-AA8H  \\\n",
       "index                                                                   \n",
       "uc001mvu   0.950711516979343  0.33634503678355104    2.33179570991506   \n",
       "uc001mvv    3.70434773759656   3.7664743227968995  4.9823322087709805   \n",
       "uc001mvw    7.36670964214525    6.710087071343549   7.505747921808901   \n",
       "uc001mvx  3.8414821306618396     3.31244739015756  2.7249111059685296   \n",
       "uc001mwy                 0.0     7.01460130236366                 0.0   \n",
       "uc001mwc  1.7509548421941998                  0.0    1.01467715674332   \n",
       "uc010rer                 0.0                  0.0                 0.0   \n",
       "\n",
       "                TCGA-5M-AAT4  TCGA-5M-AAT5        TCGA-5M-AAT6  TCGA-5M-AATA  \\\n",
       "index                                                                          \n",
       "uc001mvu    2.48388041868446      1.989445    2.49732393213555      2.940802   \n",
       "uc001mvv    5.37927433289311      5.364193    5.76168716642264      4.411019   \n",
       "uc001mvw    7.48726611812464      7.486145   6.463028453097769      4.824345   \n",
       "uc001mvx  2.1878610558432703      2.572413    4.26431771103936      2.906336   \n",
       "uc001mwy                 0.0      0.000000                 0.0      0.000000   \n",
       "uc001mwc                 0.0      0.000000  2.0976957390696898      0.498838   \n",
       "uc010rer                 0.0      0.000000                 0.0      0.000000   \n",
       "\n",
       "                TCGA-5M-AATE        TCGA-A6-2675        TCGA-A6-2682  ...  \\\n",
       "index                                                                 ...   \n",
       "uc001mvu  1.4015979415560502     1.0297660529782   0.350084297810286  ...   \n",
       "uc001mvv  3.9370659185440697  4.9706566501862905     3.6910978248805  ...   \n",
       "uc001mvw    7.22036996935157    6.69365789590222   6.408983927927389  ...   \n",
       "uc001mvx  3.3920045500616003    4.80946138505642    4.80094832280598  ...   \n",
       "uc001mwy                 0.0                 0.0                 0.0  ...   \n",
       "uc001mwc                 0.0  1.3337836218415802  2.2845255811506404  ...   \n",
       "uc010rer                 0.0                 0.0                 0.0  ...   \n",
       "\n",
       "                TCGA-QG-A5YW        TCGA-QG-A5YX        TCGA-QG-A5Z1  \\\n",
       "index                                                                  \n",
       "uc001mvu    1.58295819768529  2.3711789868972297     1.2888618966873   \n",
       "uc001mvv  4.5318524434990195   4.706613344062291    3.76328238007294   \n",
       "uc001mvw    7.66974089768573   6.912727568540009    7.02606534691993   \n",
       "uc001mvx    3.88933665414542  2.8410832160863704    3.66961390356031   \n",
       "uc001mwy                 0.0                 0.0                 0.0   \n",
       "uc001mwc    2.08290659040898                 0.0  1.4426210235030499   \n",
       "uc010rer                 0.0                 0.0                 0.0   \n",
       "\n",
       "                TCGA-QG-A5Z2        TCGA-QL-A97D        TCGA-RU-A8FL  \\\n",
       "index                                                                  \n",
       "uc001mvu  1.2632505071653701    2.84720891886887  1.9896691925829801   \n",
       "uc001mvv    5.03946030403015    4.28004005958758  5.9857252537709105   \n",
       "uc001mvw  7.7246773086232805   7.189190746880731   6.676762144802519   \n",
       "uc001mvx    4.18210696482493    3.73632404838802    2.70279697992245   \n",
       "uc001mwy                 0.0                 0.0     2.0565964709985   \n",
       "uc001mwc  1.8987568320667498  0.8443096773053421    1.51818477104487   \n",
       "uc010rer                 0.0                 0.0                 0.0   \n",
       "\n",
       "               TCGA-SS-A7HO        TCGA-T9-A92H         TCGA-WS-AB45  \\\n",
       "index                                                                  \n",
       "uc001mvu  0.379288952996855  1.0164072214275999  0.17131422058127405   \n",
       "uc001mvv   3.06216197611402    5.51262219173409     1.97494873806847   \n",
       "uc001mvw  5.313982821693349  6.6201763192198895   3.1772191345352296   \n",
       "uc001mvx    2.5118808778321  3.1083279243052404     6.71385808647318   \n",
       "uc001mwy                0.0                 0.0                  0.0   \n",
       "uc001mwc                0.0                 0.0   4.4013624980104895   \n",
       "uc010rer   0.88346753180998                 0.0                  0.0   \n",
       "\n",
       "         Unnamed: 288  \n",
       "index                  \n",
       "uc001mvu          NaN  \n",
       "uc001mvv          NaN  \n",
       "uc001mvw          NaN  \n",
       "uc001mvx          NaN  \n",
       "uc001mwy          NaN  \n",
       "uc001mwc          NaN  \n",
       "uc010rer          NaN  \n",
       "\n",
       "[7 rows x 288 columns]"
      ]
     },
     "execution_count": 29,
     "metadata": {},
     "output_type": "execute_result"
    }
   ],
   "source": [
    "ca = 'CD44_samples_ca.tsv'\n",
    "samples_ca = pd.read_csv(ca, sep='\\t')\n",
    "samples_ca = samples_ca.set_index('index')\n",
    "TCGA_2 = samples_ca.columns.values.tolist()\n",
    "TCGA_names = samples_df.index.values.tolist()\n",
    "samples_ca = samples_ca.drop(['stages'], axis=0)\n",
    "samples_ca"
   ]
  },
  {
   "cell_type": "code",
   "execution_count": 100,
   "metadata": {},
   "outputs": [
    {
     "data": {
      "text/plain": [
       "65"
      ]
     },
     "execution_count": 100,
     "metadata": {},
     "output_type": "execute_result"
    }
   ],
   "source": [
    "ca = 'TCGA_dead.tsv' # table with intersection of TCGA_2 and TCGA_names\n",
    "dead_p = pd.read_csv(ca, sep='\\t')\n",
    "dead_p = dead_p.set_index('TCGA')\n",
    "TCGA_names = dead_p.index.values.tolist()\n",
    "\n",
    "fin_df = samples_ca[TCGA_names]\n",
    "days = []\n",
    "for i in TCGA_names:\n",
    "    days.append(samples_df.loc[i, 'Days'])\n",
    "len(days)"
   ]
  },
  {
   "cell_type": "code",
   "execution_count": 107,
   "metadata": {},
   "outputs": [],
   "source": [
    "melt_df = pd.melt(fin_df)\n",
    "isoforms = ['CD44-208', 'CD44-206', 'CD44-209', 'CD44-201', 'CD44-203', 'CD44-210','CD44-205']\n",
    "iso = isoforms*65\n",
    "days_2 = days*7\n",
    "j=0\n",
    "for i in days_2:\n",
    "    days_2[j] = int(i)\n",
    "    j+=1\n",
    "melt_df['Isoform'] = iso\n",
    "melt_df['Days'] = days_2\n",
    "melt_df = melt_df.rename(columns={\"variable\": \"TCGA\", \"value\": \"Expression\"})\n",
    "melt_df = melt_df.set_index('TCGA')"
   ]
  },
  {
   "cell_type": "code",
   "execution_count": 128,
   "metadata": {},
   "outputs": [
    {
     "data": {
      "image/png": "[encoded data removed]",
      "text/plain": [
       "<Figure size 432x288 with 1 Axes>"
      ]
     },
     "metadata": {
      "needs_background": "light"
     },
     "output_type": "display_data"
    }
   ],
   "source": [
    "i = melt_df[melt_df['Isoform'].str.match('CD44-208')]\n",
    "i\n",
    "plot = sns.scatterplot(data=i, x=\"Expression\", y=\"Days\").set_title('CD44-208')\n",
    "plot.get_figure().savefig('CD44-208.png', dpi=300)"
   ]
  },
  {
   "cell_type": "code",
   "execution_count": 127,
   "metadata": {},
   "outputs": [
    {
     "data": {
      "image/png": "[encoded data removed]",
      "text/plain": [
       "<Figure size 432x288 with 1 Axes>"
      ]
     },
     "metadata": {
      "needs_background": "light"
     },
     "output_type": "display_data"
    }
   ],
   "source": [
    "i = melt_df[melt_df['Isoform'].str.match('CD44-206')]\n",
    "plot = sns.scatterplot(data=i, x=\"Expression\", y=\"Days\").set_title('CD44-206')\n",
    "plot.get_figure().savefig('CD44-206.png', dpi=300)"
   ]
  },
  {
   "cell_type": "code",
   "execution_count": 121,
   "metadata": {},
   "outputs": [
    {
     "data": {
      "image/png": "[encoded data removed]",
      "text/plain": [
       "<Figure size 432x288 with 1 Axes>"
      ]
     },
     "metadata": {
      "needs_background": "light"
     },
     "output_type": "display_data"
    }
   ],
   "source": [
    "i = melt_df[melt_df['Isoform'].str.match('CD44-201')]\n",
    "plot = sns.scatterplot(data=i, x=\"Expression\", y=\"Days\").set_title('CD44-201')\n",
    "plot.get_figure().savefig('CD44-201.png', dpi=300)"
   ]
  },
  {
   "cell_type": "code",
   "execution_count": 122,
   "metadata": {},
   "outputs": [
    {
     "data": {
      "image/png": "[encoded data removed]",
      "text/plain": [
       "<Figure size 432x288 with 1 Axes>"
      ]
     },
     "metadata": {
      "needs_background": "light"
     },
     "output_type": "display_data"
    }
   ],
   "source": [
    "i = melt_df[melt_df['Isoform'].str.match('CD44-209')]\n",
    "plot = sns.scatterplot(data=i, x=\"Expression\", y=\"Days\").set_title('CD44-209')\n",
    "plot.get_figure().savefig('CD44-209.png', dpi=300)"
   ]
  },
  {
   "cell_type": "code",
   "execution_count": 123,
   "metadata": {},
   "outputs": [
    {
     "data": {
      "image/png": "[encoded data removed]",
      "text/plain": [
       "<Figure size 432x288 with 1 Axes>"
      ]
     },
     "metadata": {
      "needs_background": "light"
     },
     "output_type": "display_data"
    }
   ],
   "source": [
    "i = melt_df[melt_df['Isoform'].str.match('CD44-203')]\n",
    "plot = sns.scatterplot(data=i, x=\"Expression\", y=\"Days\").set_title('CD44-203')\n",
    "plot.get_figure().savefig('CD44-203.png', dpi=300)"
   ]
  },
  {
   "cell_type": "code",
   "execution_count": 124,
   "metadata": {},
   "outputs": [
    {
     "data": {
      "image/png": "[encoded data removed]",
      "text/plain": [
       "<Figure size 432x288 with 1 Axes>"
      ]
     },
     "metadata": {
      "needs_background": "light"
     },
     "output_type": "display_data"
    }
   ],
   "source": [
    "i = melt_df[melt_df['Isoform'].str.match('CD44-210')]\n",
    "plot = sns.scatterplot(data=i, x=\"Expression\", y=\"Days\").set_title('CD44-210')\n",
    "plot.get_figure().savefig('CD44-210.png', dpi=300)"
   ]
  },
  {
   "cell_type": "code",
   "execution_count": 125,
   "metadata": {},
   "outputs": [
    {
     "data": {
      "image/png": "[encoded data removed]",
      "text/plain": [
       "<Figure size 432x288 with 1 Axes>"
      ]
     },
     "metadata": {
      "needs_background": "light"
     },
     "output_type": "display_data"
    }
   ],
   "source": [
    "i = melt_df[melt_df['Isoform'].str.match('CD44-205')]\n",
    "plot = sns.scatterplot(data=i, x=\"Expression\", y=\"Days\").set_title('CD44-205')\n",
    "plot.get_figure().savefig('CD44205.png', dpi=300)"
   ]
  },
  {
   "cell_type": "code",
   "execution_count": null,
   "metadata": {},
   "outputs": [],
   "source": []
  }
 ],
 "metadata": {
  "kernelspec": {
   "display_name": "Python 3",
   "language": "python",
   "name": "python3"
  },
  "language_info": {
   "codemirror_mode": {
    "name": "ipython",
    "version": 3
   },
   "file_extension": ".py",
   "mimetype": "text/x-python",
   "name": "python",
   "nbconvert_exporter": "python",
   "pygments_lexer": "ipython3",
   "version": "3.8.5"
  }
 },
 "nbformat": 4,
 "nbformat_minor": 4
}
