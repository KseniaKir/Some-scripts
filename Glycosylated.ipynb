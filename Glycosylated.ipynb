{
 "cells": [
  {
   "cell_type": "code",
   "execution_count": 1,
   "metadata": {},
   "outputs": [],
   "source": [
    "import pandas as pd\n",
    "import numpy as np\n",
    "import scipy.stats as ss\n",
    "import matplotlib as plt\n",
    "from scipy.stats import hypergeom"
   ]
  },
  {
   "cell_type": "code",
   "execution_count": 2,
   "metadata": {},
   "outputs": [],
   "source": [
    "tsv = 'shCD44_vs_shLuc_all.tsv'\n",
    "df_sh = pd.read_csv(tsv, sep='\\t')\n",
    "tsv = 'Genes_glyc.xlsx'\n",
    "df_gl = pd.read_excel(tsv)"
   ]
  },
  {
   "cell_type": "code",
   "execution_count": 3,
   "metadata": {},
   "outputs": [],
   "source": [
    "df_diff = df_sh.loc[(df_sh['padj']<0.05) & (abs(df_sh['log2FoldChange'])>=np.log2(1.5))]\n",
    "df_diff = df_diff.loc[df_diff[\"Type\"] == \"protein_coding\"]"
   ]
  },
  {
   "cell_type": "code",
   "execution_count": 4,
   "metadata": {},
   "outputs": [
    {
     "data": {
      "text/html": [
       "<div>\n",
       "<style scoped>\n",
       "    .dataframe tbody tr th:only-of-type {\n",
       "        vertical-align: middle;\n",
       "    }\n",
       "\n",
       "    .dataframe tbody tr th {\n",
       "        vertical-align: top;\n",
       "    }\n",
       "\n",
       "    .dataframe thead th {\n",
       "        text-align: right;\n",
       "    }\n",
       "</style>\n",
       "<table border=\"1\" class=\"dataframe\">\n",
       "  <thead>\n",
       "    <tr style=\"text-align: right;\">\n",
       "      <th></th>\n",
       "      <th>UniprotID.Target</th>\n",
       "      <th>NCBI.GeneID.Target</th>\n",
       "      <th>Name_Target</th>\n",
       "      <th>Detection.method</th>\n",
       "      <th>PubmedID</th>\n",
       "      <th>Organism</th>\n",
       "      <th>Source.database</th>\n",
       "      <th>Small-scale.evidence</th>\n",
       "    </tr>\n",
       "  </thead>\n",
       "  <tbody>\n",
       "    <tr>\n",
       "      <th>0</th>\n",
       "      <td>Q03692</td>\n",
       "      <td>1300</td>\n",
       "      <td>COL10A1</td>\n",
       "      <td>inferred by curator</td>\n",
       "      <td>29087512,20495570</td>\n",
       "      <td>Homo sapiens</td>\n",
       "      <td>TRRUST</td>\n",
       "      <td>Yes</td>\n",
       "    </tr>\n",
       "    <tr>\n",
       "      <th>1</th>\n",
       "      <td>P15692</td>\n",
       "      <td>7422</td>\n",
       "      <td>VEGFA</td>\n",
       "      <td>chromatin immunoprecipitation assay,inferred b...</td>\n",
       "      <td>11301389,11751212,22458515,24234451,27899662,2...</td>\n",
       "      <td>Homo sapiens</td>\n",
       "      <td>GTRD,HTRI,IntAct_via_DoRothEA,KEGG_via_DoRothE...</td>\n",
       "      <td>Yes</td>\n",
       "    </tr>\n",
       "    <tr>\n",
       "      <th>2</th>\n",
       "      <td>P35968</td>\n",
       "      <td>3791</td>\n",
       "      <td>KDR</td>\n",
       "      <td>inferred by curator</td>\n",
       "      <td>17202159</td>\n",
       "      <td>Homo sapiens</td>\n",
       "      <td>TRED</td>\n",
       "      <td>Yes</td>\n",
       "    </tr>\n",
       "    <tr>\n",
       "      <th>3</th>\n",
       "      <td>P05121</td>\n",
       "      <td>5054</td>\n",
       "      <td>SERPINE1</td>\n",
       "      <td>chromatin immunoprecipitation assay,electropho...</td>\n",
       "      <td>29126285,27924024,15039136,17202159,29087512,2...</td>\n",
       "      <td>Homo sapiens</td>\n",
       "      <td>GTRD,HTRI,ReMap,TRED,TRRUST</td>\n",
       "      <td>Yes</td>\n",
       "    </tr>\n",
       "    <tr>\n",
       "      <th>4</th>\n",
       "      <td>Q9Y6K9</td>\n",
       "      <td>8517</td>\n",
       "      <td>IKBKG</td>\n",
       "      <td>inferred by curator</td>\n",
       "      <td>17202159</td>\n",
       "      <td>Homo sapiens</td>\n",
       "      <td>TRED</td>\n",
       "      <td>Yes</td>\n",
       "    </tr>\n",
       "  </tbody>\n",
       "</table>\n",
       "</div>"
      ],
      "text/plain": [
       "  UniprotID.Target NCBI.GeneID.Target Name_Target  \\\n",
       "0           Q03692               1300     COL10A1   \n",
       "1           P15692               7422       VEGFA   \n",
       "2           P35968               3791         KDR   \n",
       "3           P05121               5054    SERPINE1   \n",
       "4           Q9Y6K9               8517       IKBKG   \n",
       "\n",
       "                                    Detection.method  \\\n",
       "0                                inferred by curator   \n",
       "1  chromatin immunoprecipitation assay,inferred b...   \n",
       "2                                inferred by curator   \n",
       "3  chromatin immunoprecipitation assay,electropho...   \n",
       "4                                inferred by curator   \n",
       "\n",
       "                                            PubmedID      Organism  \\\n",
       "0                                  29087512,20495570  Homo sapiens   \n",
       "1  11301389,11751212,22458515,24234451,27899662,2...  Homo sapiens   \n",
       "2                                           17202159  Homo sapiens   \n",
       "3  29126285,27924024,15039136,17202159,29087512,2...  Homo sapiens   \n",
       "4                                           17202159  Homo sapiens   \n",
       "\n",
       "                                     Source.database Small-scale.evidence  \n",
       "0                                             TRRUST                  Yes  \n",
       "1  GTRD,HTRI,IntAct_via_DoRothEA,KEGG_via_DoRothE...                  Yes  \n",
       "2                                               TRED                  Yes  \n",
       "3                        GTRD,HTRI,ReMap,TRED,TRRUST                  Yes  \n",
       "4                                               TRED                  Yes  "
      ]
     },
     "execution_count": 4,
     "metadata": {},
     "output_type": "execute_result"
    }
   ],
   "source": [
    "tsv = 'EPAS1_targets_TFlink.tsv'\n",
    "df_targets = pd.read_csv(tsv, sep = '\\t')\n",
    "df_targets.rename(columns={'Name.Target':'Name_Target'}, inplace=True)   \n",
    "df_targets.head()"
   ]
  },
  {
   "cell_type": "code",
   "execution_count": 5,
   "metadata": {},
   "outputs": [],
   "source": [
    "classes = df_gl.iloc[:, 1].unique()\n",
    "N = len(df_diff.index.unique())\n",
    "M = len(df_sh.loc[(df_sh['Type']=='protein_coding')])"
   ]
  },
  {
   "cell_type": "code",
   "execution_count": 6,
   "metadata": {},
   "outputs": [],
   "source": [
    "n_arr = []\n",
    "k_arr = []\n",
    "p_value = []\n",
    "intersec = []\n",
    "for i in classes:\n",
    "    df_temp = df_gl.loc[(df_gl['Class']==i)]\n",
    "    n = len(df_temp.iloc[:, 0].unique())\n",
    "    genes1 = df_diff.iloc[:, 0].unique()\n",
    "    genes2 = df_temp.iloc[:, 0]\n",
    "    inter = set(genes1) & set(genes2)\n",
    "    k = len(set(genes1) & set(genes2))\n",
    "    \n",
    "    p_v = ss.hypergeom.sf(k, M, n, N)\n",
    "    p_value.append(p_v)\n",
    "    n_arr.append(n)\n",
    "    k_arr.append(k)\n",
    "    intersec.append(inter)"
   ]
  },
  {
   "cell_type": "code",
   "execution_count": 7,
   "metadata": {},
   "outputs": [],
   "source": [
    "M_arr = [M]*len(classes)\n",
    "N_arr = [N]*len(classes)"
   ]
  },
  {
   "cell_type": "code",
   "execution_count": 8,
   "metadata": {
    "jupyter": {
     "source_hidden": true
    }
   },
   "outputs": [
    {
     "data": {
      "text/html": [
       "<div>\n",
       "<style scoped>\n",
       "    .dataframe tbody tr th:only-of-type {\n",
       "        vertical-align: middle;\n",
       "    }\n",
       "\n",
       "    .dataframe tbody tr th {\n",
       "        vertical-align: top;\n",
       "    }\n",
       "\n",
       "    .dataframe thead th {\n",
       "        text-align: right;\n",
       "    }\n",
       "</style>\n",
       "<table border=\"1\" class=\"dataframe\">\n",
       "  <thead>\n",
       "    <tr style=\"text-align: right;\">\n",
       "      <th></th>\n",
       "      <th>Total protein coding genes</th>\n",
       "      <th>Total diff genes</th>\n",
       "      <th>Genes in class</th>\n",
       "      <th>Genes</th>\n",
       "      <th>p_value</th>\n",
       "      <th>padj</th>\n",
       "    </tr>\n",
       "    <tr>\n",
       "      <th>Class</th>\n",
       "      <th></th>\n",
       "      <th></th>\n",
       "      <th></th>\n",
       "      <th></th>\n",
       "      <th></th>\n",
       "      <th></th>\n",
       "    </tr>\n",
       "  </thead>\n",
       "  <tbody>\n",
       "    <tr>\n",
       "      <th>O-glycan_mucin-type</th>\n",
       "      <td>19924</td>\n",
       "      <td>4214</td>\n",
       "      <td>35</td>\n",
       "      <td>{ST3GAL2, GALNT10, GCNT1, GALNT2, GALNT5, GALN...</td>\n",
       "      <td>0.008730</td>\n",
       "      <td>0.161508</td>\n",
       "    </tr>\n",
       "    <tr>\n",
       "      <th>UDP-GalNAc_polypeptide</th>\n",
       "      <td>19924</td>\n",
       "      <td>4214</td>\n",
       "      <td>22</td>\n",
       "      <td>{GALNT10, GALNT2, GALNT5, GALNT8, GALNT7, GALN...</td>\n",
       "      <td>0.028361</td>\n",
       "      <td>0.262344</td>\n",
       "    </tr>\n",
       "    <tr>\n",
       "      <th>EC_class_2,4,99</th>\n",
       "      <td>19924</td>\n",
       "      <td>4214</td>\n",
       "      <td>12</td>\n",
       "      <td>{ST3GAL2, ST6GALNAC2, ST3GAL1, ST3GAL5, ST6GAL1}</td>\n",
       "      <td>0.025276</td>\n",
       "      <td>0.311738</td>\n",
       "    </tr>\n",
       "    <tr>\n",
       "      <th>Glycolipid_globo_series</th>\n",
       "      <td>19924</td>\n",
       "      <td>4214</td>\n",
       "      <td>10</td>\n",
       "      <td>{ST3GAL2, FUT1, B3GALT5, ST3GAL1, A4GALT}</td>\n",
       "      <td>0.008483</td>\n",
       "      <td>0.313878</td>\n",
       "    </tr>\n",
       "    <tr>\n",
       "      <th>Galactosyltransferases_ceramide</th>\n",
       "      <td>19924</td>\n",
       "      <td>4214</td>\n",
       "      <td>15</td>\n",
       "      <td>{B3GALT5, B4GALT5, B4GALT6, B4GALT1, A4GALT}</td>\n",
       "      <td>0.077000</td>\n",
       "      <td>0.569800</td>\n",
       "    </tr>\n",
       "  </tbody>\n",
       "</table>\n",
       "</div>"
      ],
      "text/plain": [
       "                                 Total protein coding genes  Total diff genes  \\\n",
       "Class                                                                           \n",
       "O-glycan_mucin-type                                   19924              4214   \n",
       "UDP-GalNAc_polypeptide                                19924              4214   \n",
       "EC_class_2,4,99                                       19924              4214   \n",
       "Glycolipid_globo_series                               19924              4214   \n",
       "Galactosyltransferases_ceramide                       19924              4214   \n",
       "\n",
       "                                 Genes in class  \\\n",
       "Class                                             \n",
       "O-glycan_mucin-type                          35   \n",
       "UDP-GalNAc_polypeptide                       22   \n",
       "EC_class_2,4,99                              12   \n",
       "Glycolipid_globo_series                      10   \n",
       "Galactosyltransferases_ceramide              15   \n",
       "\n",
       "                                                                             Genes  \\\n",
       "Class                                                                                \n",
       "O-glycan_mucin-type              {ST3GAL2, GALNT10, GCNT1, GALNT2, GALNT5, GALN...   \n",
       "UDP-GalNAc_polypeptide           {GALNT10, GALNT2, GALNT5, GALNT8, GALNT7, GALN...   \n",
       "EC_class_2,4,99                   {ST3GAL2, ST6GALNAC2, ST3GAL1, ST3GAL5, ST6GAL1}   \n",
       "Glycolipid_globo_series                  {ST3GAL2, FUT1, B3GALT5, ST3GAL1, A4GALT}   \n",
       "Galactosyltransferases_ceramide       {B3GALT5, B4GALT5, B4GALT6, B4GALT1, A4GALT}   \n",
       "\n",
       "                                  p_value      padj  \n",
       "Class                                                \n",
       "O-glycan_mucin-type              0.008730  0.161508  \n",
       "UDP-GalNAc_polypeptide           0.028361  0.262344  \n",
       "EC_class_2,4,99                  0.025276  0.311738  \n",
       "Glycolipid_globo_series          0.008483  0.313878  \n",
       "Galactosyltransferases_ceramide  0.077000  0.569800  "
      ]
     },
     "execution_count": 8,
     "metadata": {},
     "output_type": "execute_result"
    }
   ],
   "source": [
    "final_df = pd.DataFrame({'Class': classes, 'Total protein coding genes': M_arr, 'Total diff genes': N_arr, \n",
    "                         'Genes in class': n_arr, 'Genes': intersec, 'p_value': p_value})\n",
    "final_df = final_df.set_index('Class')\n",
    "final_df['padj'] = np.minimum(final_df['p_value'] * len(final_df) / ss.rankdata(final_df['p_value']), 1)\n",
    "final_df = final_df.sort_values('padj')\n",
    "final_df.head()"
   ]
  },
  {
   "cell_type": "code",
   "execution_count": 50,
   "metadata": {},
   "outputs": [],
   "source": [
    "final_df.to_csv('Glycosylated_genes_diff.csv')"
   ]
  },
  {
   "cell_type": "code",
   "execution_count": 47,
   "metadata": {},
   "outputs": [],
   "source": [
    "# final_df = final_df.rename(index={'Glycolipid_lacto/neolacto_series': 'Glycolipid_lacto_neolacto_series'})"
   ]
  },
  {
   "cell_type": "code",
   "execution_count": 48,
   "metadata": {},
   "outputs": [],
   "source": [
    "i = 0\n",
    "for name in final_df.index.tolist():\n",
    "    l = final_df.iloc[i, 3]\n",
    "    n = final_df.index[i]\n",
    "    if len(l) != 0:\n",
    "        diff_genes = df_diff[df_diff['Gene'].str.contains('|'.join(l))]\n",
    "        i+=1\n",
    "        diff_genes.to_csv(n+'.csv')\n",
    "    else:\n",
    "        i+=1"
   ]
  },
  {
   "cell_type": "code",
   "execution_count": null,
   "metadata": {},
   "outputs": [],
   "source": [
    "n = len(df_targets.iloc[:, 2].unique())\n",
    "diff_targets = df_targets[df_targets['Name_Target'].isin(df_diff.iloc[:, 0])]\n",
    "k = len(diff_targets)\n",
    "hypergeom.sf(M, n, N, k)"
   ]
  },
  {
   "cell_type": "code",
   "execution_count": null,
   "metadata": {},
   "outputs": [],
   "source": [
    "diff_targets.to_csv('diff_targets.csv')"
   ]
  },
  {
   "cell_type": "code",
   "execution_count": null,
   "metadata": {},
   "outputs": [],
   "source": []
  }
 ],
 "metadata": {
  "kernelspec": {
   "display_name": "Python 3",
   "language": "python",
   "name": "python3"
  },
  "language_info": {
   "codemirror_mode": {
    "name": "ipython",
    "version": 3
   },
   "file_extension": ".py",
   "mimetype": "text/x-python",
   "name": "python",
   "nbconvert_exporter": "python",
   "pygments_lexer": "ipython3",
   "version": "3.8.5"
  }
 },
 "nbformat": 4,
 "nbformat_minor": 4
}
