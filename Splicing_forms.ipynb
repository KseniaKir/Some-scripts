{
 "cells": [
  {
   "cell_type": "code",
   "execution_count": 5,
   "metadata": {},
   "outputs": [],
   "source": [
    "import pandas as pd\n",
    "import numpy as np\n",
    "import os\n",
    "import seaborn as sns\n",
    "import matplotlib.pyplot as plt"
   ]
  },
  {
   "cell_type": "code",
   "execution_count": 6,
   "metadata": {},
   "outputs": [],
   "source": [
    "cl = 'annotation.tsv'\n",
    "df_ann = pd.read_csv(cl, sep='\\t', index_col=1)\n",
    "ENST = df_ann[['CD44' in s for s in df_ann['Gene name']]].index.tolist()\n",
    "CD44 = df_ann[['CD44' in s for s in df_ann['Gene name']]].loc[:, 'Transcript name']\n",
    "iso = ['S3', 'S11', 'S7', 'S16', 'S5', 'S6', 'S1']"
   ]
  },
  {
   "cell_type": "code",
   "execution_count": 7,
   "metadata": {},
   "outputs": [
    {
     "data": {
      "text/html": [
       "<div>\n",
       "<style scoped>\n",
       "    .dataframe tbody tr th:only-of-type {\n",
       "        vertical-align: middle;\n",
       "    }\n",
       "\n",
       "    .dataframe tbody tr th {\n",
       "        vertical-align: top;\n",
       "    }\n",
       "\n",
       "    .dataframe thead th {\n",
       "        text-align: right;\n",
       "    }\n",
       "</style>\n",
       "<table border=\"1\" class=\"dataframe\">\n",
       "  <thead>\n",
       "    <tr style=\"text-align: right;\">\n",
       "      <th></th>\n",
       "      <th>Example</th>\n",
       "    </tr>\n",
       "  </thead>\n",
       "  <tbody>\n",
       "    <tr>\n",
       "      <th>ENST00000428726</th>\n",
       "      <td>0</td>\n",
       "    </tr>\n",
       "    <tr>\n",
       "      <th>ENST00000415148</th>\n",
       "      <td>0</td>\n",
       "    </tr>\n",
       "    <tr>\n",
       "      <th>ENST00000433892</th>\n",
       "      <td>0</td>\n",
       "    </tr>\n",
       "    <tr>\n",
       "      <th>ENST00000263398</th>\n",
       "      <td>0</td>\n",
       "    </tr>\n",
       "    <tr>\n",
       "      <th>ENST00000278386</th>\n",
       "      <td>0</td>\n",
       "    </tr>\n",
       "  </tbody>\n",
       "</table>\n",
       "</div>"
      ],
      "text/plain": [
       "                 Example\n",
       "ENST00000428726        0\n",
       "ENST00000415148        0\n",
       "ENST00000433892        0\n",
       "ENST00000263398        0\n",
       "ENST00000278386        0"
      ]
     },
     "execution_count": 7,
     "metadata": {},
     "output_type": "execute_result"
    }
   ],
   "source": [
    "zeros = [0]*7\n",
    "TPM_arr = pd.DataFrame(zeros, index=ENST, columns=['Example'])\n",
    "TPM_arr.head()"
   ]
  },
  {
   "cell_type": "code",
   "execution_count": 8,
   "metadata": {},
   "outputs": [],
   "source": [
    "def iso_check(tbl, j):\n",
    "    tbl.index = tbl.index.map(lambda x: str(x)[:15]) # cut last digits\n",
    "    result = tbl.query('Name in @ENST') # choose certain rows\n",
    "    TPM = result.loc[:, 'TPM']\n",
    "    TPM_arr[iso[j]] = TPM"
   ]
  },
  {
   "cell_type": "code",
   "execution_count": 9,
   "metadata": {},
   "outputs": [],
   "source": [
    "cwd = os.getcwd()\n",
    "j = 0\n",
    "\n",
    "for file in os.listdir(cwd):\n",
    "    filename = os.fsdecode(file)\n",
    "    if filename.endswith('.tsv') and filename != 'annotation.tsv': \n",
    "        tsv =  filename\n",
    "        table = pd.read_csv(tsv, sep='\\t', index_col=0)\n",
    "        table[1:4] = table[1:4].apply(pd.to_numeric)\n",
    "        table = table.add(1)\n",
    "        table = table.apply(np.log2)\n",
    "        iso_check(table, j)\n",
    "        j+=1\n",
    "        continue"
   ]
  },
  {
   "cell_type": "code",
   "execution_count": 10,
   "metadata": {},
   "outputs": [
    {
     "data": {
      "text/html": [
       "<div>\n",
       "<style scoped>\n",
       "    .dataframe tbody tr th:only-of-type {\n",
       "        vertical-align: middle;\n",
       "    }\n",
       "\n",
       "    .dataframe tbody tr th {\n",
       "        vertical-align: top;\n",
       "    }\n",
       "\n",
       "    .dataframe thead th {\n",
       "        text-align: right;\n",
       "    }\n",
       "</style>\n",
       "<table border=\"1\" class=\"dataframe\">\n",
       "  <thead>\n",
       "    <tr style=\"text-align: right;\">\n",
       "      <th></th>\n",
       "      <th>S3</th>\n",
       "      <th>S11</th>\n",
       "      <th>S7</th>\n",
       "      <th>S16</th>\n",
       "      <th>S5</th>\n",
       "      <th>S6</th>\n",
       "      <th>S1</th>\n",
       "    </tr>\n",
       "  </thead>\n",
       "  <tbody>\n",
       "    <tr>\n",
       "      <th>ENST00000428726</th>\n",
       "      <td>4.125083</td>\n",
       "      <td>4.881415</td>\n",
       "      <td>4.897845</td>\n",
       "      <td>3.266359</td>\n",
       "      <td>5.143475</td>\n",
       "      <td>3.171049</td>\n",
       "      <td>4.066126</td>\n",
       "    </tr>\n",
       "    <tr>\n",
       "      <th>ENST00000415148</th>\n",
       "      <td>1.982815</td>\n",
       "      <td>3.669589</td>\n",
       "      <td>3.902737</td>\n",
       "      <td>1.296393</td>\n",
       "      <td>2.717497</td>\n",
       "      <td>2.701482</td>\n",
       "      <td>4.629522</td>\n",
       "    </tr>\n",
       "    <tr>\n",
       "      <th>ENST00000433892</th>\n",
       "      <td>6.563232</td>\n",
       "      <td>6.805419</td>\n",
       "      <td>7.187388</td>\n",
       "      <td>4.999490</td>\n",
       "      <td>6.772040</td>\n",
       "      <td>6.483990</td>\n",
       "      <td>6.983115</td>\n",
       "    </tr>\n",
       "    <tr>\n",
       "      <th>ENST00000263398</th>\n",
       "      <td>5.820464</td>\n",
       "      <td>5.827836</td>\n",
       "      <td>5.951847</td>\n",
       "      <td>4.427028</td>\n",
       "      <td>5.877912</td>\n",
       "      <td>4.762278</td>\n",
       "      <td>5.533584</td>\n",
       "    </tr>\n",
       "    <tr>\n",
       "      <th>ENST00000278386</th>\n",
       "      <td>0.657680</td>\n",
       "      <td>0.000000</td>\n",
       "      <td>0.000000</td>\n",
       "      <td>0.000000</td>\n",
       "      <td>0.000000</td>\n",
       "      <td>0.000000</td>\n",
       "      <td>0.000000</td>\n",
       "    </tr>\n",
       "  </tbody>\n",
       "</table>\n",
       "</div>"
      ],
      "text/plain": [
       "                       S3       S11        S7       S16        S5        S6  \\\n",
       "ENST00000428726  4.125083  4.881415  4.897845  3.266359  5.143475  3.171049   \n",
       "ENST00000415148  1.982815  3.669589  3.902737  1.296393  2.717497  2.701482   \n",
       "ENST00000433892  6.563232  6.805419  7.187388  4.999490  6.772040  6.483990   \n",
       "ENST00000263398  5.820464  5.827836  5.951847  4.427028  5.877912  4.762278   \n",
       "ENST00000278386  0.657680  0.000000  0.000000  0.000000  0.000000  0.000000   \n",
       "\n",
       "                       S1  \n",
       "ENST00000428726  4.066126  \n",
       "ENST00000415148  4.629522  \n",
       "ENST00000433892  6.983115  \n",
       "ENST00000263398  5.533584  \n",
       "ENST00000278386  0.000000  "
      ]
     },
     "execution_count": 10,
     "metadata": {},
     "output_type": "execute_result"
    }
   ],
   "source": [
    "TPM_arr['Transcript'] = CD44\n",
    "transcript = (TPM_arr.loc[:, 'Transcript'].to_list())*7\n",
    "TPM_arr = TPM_arr.drop('Transcript', axis=1)\n",
    "TPM_arr = TPM_arr.drop('Example', axis=1)\n",
    "TPM_arr.head()"
   ]
  },
  {
   "cell_type": "code",
   "execution_count": 11,
   "metadata": {},
   "outputs": [
    {
     "data": {
      "text/html": [
       "<div>\n",
       "<style scoped>\n",
       "    .dataframe tbody tr th:only-of-type {\n",
       "        vertical-align: middle;\n",
       "    }\n",
       "\n",
       "    .dataframe tbody tr th {\n",
       "        vertical-align: top;\n",
       "    }\n",
       "\n",
       "    .dataframe thead th {\n",
       "        text-align: right;\n",
       "    }\n",
       "</style>\n",
       "<table border=\"1\" class=\"dataframe\">\n",
       "  <thead>\n",
       "    <tr style=\"text-align: right;\">\n",
       "      <th></th>\n",
       "      <th>Sample</th>\n",
       "      <th>TPM</th>\n",
       "      <th>Isoforms</th>\n",
       "      <th>Transcript</th>\n",
       "    </tr>\n",
       "  </thead>\n",
       "  <tbody>\n",
       "    <tr>\n",
       "      <th>0</th>\n",
       "      <td>S3</td>\n",
       "      <td>4.125083</td>\n",
       "      <td>ENST00000428726</td>\n",
       "      <td>CD44-208</td>\n",
       "    </tr>\n",
       "    <tr>\n",
       "      <th>1</th>\n",
       "      <td>S3</td>\n",
       "      <td>1.982815</td>\n",
       "      <td>ENST00000415148</td>\n",
       "      <td>CD44-206</td>\n",
       "    </tr>\n",
       "    <tr>\n",
       "      <th>2</th>\n",
       "      <td>S3</td>\n",
       "      <td>6.563232</td>\n",
       "      <td>ENST00000433892</td>\n",
       "      <td>CD44-209</td>\n",
       "    </tr>\n",
       "    <tr>\n",
       "      <th>3</th>\n",
       "      <td>S3</td>\n",
       "      <td>5.820464</td>\n",
       "      <td>ENST00000263398</td>\n",
       "      <td>CD44-201</td>\n",
       "    </tr>\n",
       "    <tr>\n",
       "      <th>4</th>\n",
       "      <td>S3</td>\n",
       "      <td>0.657680</td>\n",
       "      <td>ENST00000278386</td>\n",
       "      <td>CD44-203</td>\n",
       "    </tr>\n",
       "  </tbody>\n",
       "</table>\n",
       "</div>"
      ],
      "text/plain": [
       "  Sample       TPM         Isoforms Transcript\n",
       "0     S3  4.125083  ENST00000428726   CD44-208\n",
       "1     S3  1.982815  ENST00000415148   CD44-206\n",
       "2     S3  6.563232  ENST00000433892   CD44-209\n",
       "3     S3  5.820464  ENST00000263398   CD44-201\n",
       "4     S3  0.657680  ENST00000278386   CD44-203"
      ]
     },
     "execution_count": 11,
     "metadata": {},
     "output_type": "execute_result"
    }
   ],
   "source": [
    "TPM_arr_plot = pd.melt(TPM_arr)\n",
    "TPM_arr_plot = TPM_arr_plot.rename(columns={\"variable\": \"Sample\", \"value\": \"TPM\"})\n",
    "isoform = (TPM_arr.index.tolist())*7\n",
    "TPM_arr_plot['Isoforms'] = isoform\n",
    "TPM_arr_plot['Transcript'] = transcript\n",
    "\n",
    "TPM_arr_plot.head()"
   ]
  },
  {
   "cell_type": "code",
   "execution_count": 19,
   "metadata": {},
   "outputs": [
    {
     "data": {
      "image/png": "[encoded data removed]",
      "text/plain": [
       "<Figure size 432x288 with 1 Axes>"
      ]
     },
     "metadata": {
      "needs_background": "light"
     },
     "output_type": "display_data"
    }
   ],
   "source": [
    "plot = sns.boxplot(y='TPM', x='Transcript', \n",
    "                 data=TPM_arr_plot, \n",
    "                 width=0.5,\n",
    "                 palette=\"Blues_d\")\n",
    "#plot.set_xticklabels(labels=['CD44v1', 'CD44v2', 'CD44v3', 'CD44v4', 'CD44v5', 'CD44v6','CD44v7'], rotation=30)\n",
    "plt.tight_layout()"
   ]
  },
  {
   "cell_type": "code",
   "execution_count": 13,
   "metadata": {},
   "outputs": [],
   "source": [
    "plot.get_figure().savefig('samples_TPM.png', dpi=300)"
   ]
  },
  {
   "cell_type": "code",
   "execution_count": 22,
   "metadata": {},
   "outputs": [
    {
     "data": {
      "image/png": "[encoded data removed]",
      "text/plain": [
       "<Figure size 432x288 with 1 Axes>"
      ]
     },
     "metadata": {
      "needs_background": "light"
     },
     "output_type": "display_data"
    }
   ],
   "source": [
    "barpl = sns.barplot(x='Transcript', y='TPM', data=TPM_arr_plot, palette=\"Blues_d\")\n",
    "barpl.set_xticklabels(labels=['CD44v1', 'CD44v2', 'CD44v3', 'CD44v4', 'CD44v5', 'CD44v6','CD44v7'], rotation=30)\n",
    "barpl.set(xlabel='CD44 variants', ylabel='TPM, log2')\n",
    "barpl.set_title('HT29 control xenografts')\n",
    "plt.tight_layout()\n",
    "barpl.figure.savefig('HT29_patients.png', dpi=300)"
   ]
  },
  {
   "cell_type": "code",
   "execution_count": null,
   "metadata": {},
   "outputs": [],
   "source": []
  }
 ],
 "metadata": {
  "kernelspec": {
   "display_name": "Python 3",
   "language": "python",
   "name": "python3"
  },
  "language_info": {
   "codemirror_mode": {
    "name": "ipython",
    "version": 3
   },
   "file_extension": ".py",
   "mimetype": "text/x-python",
   "name": "python",
   "nbconvert_exporter": "python",
   "pygments_lexer": "ipython3",
   "version": "3.8.5"
  }
 },
 "nbformat": 4,
 "nbformat_minor": 4
}
