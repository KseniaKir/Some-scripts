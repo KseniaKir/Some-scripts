{
 "cells": [
  {
   "cell_type": "code",
   "execution_count": 250,
   "metadata": {},
   "outputs": [],
   "source": [
    "import pandas as pd\n",
    "import numpy as np\n",
    "import os\n",
    "import seaborn as sns\n",
    "import matplotlib.pyplot as plt"
   ]
  },
  {
   "cell_type": "code",
   "execution_count": 251,
   "metadata": {},
   "outputs": [],
   "source": [
    "cl = 'annotation.tsv'\n",
    "df_ann = pd.read_csv(cl, sep='\\t', index_col=1)\n",
    "ENST = df_ann[['CD44' in s for s in df_ann['Gene name']]].index.tolist()\n",
    "CD44 = df_ann[['CD44' in s for s in df_ann['Gene name']]].loc[:, 'Transcript name']\n",
    "iso = ['S3', 'S11', 'S7', 'S16', 'S5', 'S6', 'S1']"
   ]
  },
  {
   "cell_type": "code",
   "execution_count": 252,
   "metadata": {},
   "outputs": [
    {
     "data": {
      "text/html": [
       "<div>\n",
       "<style scoped>\n",
       "    .dataframe tbody tr th:only-of-type {\n",
       "        vertical-align: middle;\n",
       "    }\n",
       "\n",
       "    .dataframe tbody tr th {\n",
       "        vertical-align: top;\n",
       "    }\n",
       "\n",
       "    .dataframe thead th {\n",
       "        text-align: right;\n",
       "    }\n",
       "</style>\n",
       "<table border=\"1\" class=\"dataframe\">\n",
       "  <thead>\n",
       "    <tr style=\"text-align: right;\">\n",
       "      <th></th>\n",
       "      <th>Example</th>\n",
       "    </tr>\n",
       "  </thead>\n",
       "  <tbody>\n",
       "    <tr>\n",
       "      <th>ENST00000428726</th>\n",
       "      <td>0</td>\n",
       "    </tr>\n",
       "    <tr>\n",
       "      <th>ENST00000415148</th>\n",
       "      <td>0</td>\n",
       "    </tr>\n",
       "    <tr>\n",
       "      <th>ENST00000433892</th>\n",
       "      <td>0</td>\n",
       "    </tr>\n",
       "    <tr>\n",
       "      <th>ENST00000263398</th>\n",
       "      <td>0</td>\n",
       "    </tr>\n",
       "    <tr>\n",
       "      <th>ENST00000278386</th>\n",
       "      <td>0</td>\n",
       "    </tr>\n",
       "  </tbody>\n",
       "</table>\n",
       "</div>"
      ],
      "text/plain": [
       "                 Example\n",
       "ENST00000428726        0\n",
       "ENST00000415148        0\n",
       "ENST00000433892        0\n",
       "ENST00000263398        0\n",
       "ENST00000278386        0"
      ]
     },
     "execution_count": 252,
     "metadata": {},
     "output_type": "execute_result"
    }
   ],
   "source": [
    "zeros = [0]*7\n",
    "TPM_arr = pd.DataFrame(zeros, index=ENST, columns=['Example'])\n",
    "TPM_arr.head()"
   ]
  },
  {
   "cell_type": "code",
   "execution_count": 253,
   "metadata": {},
   "outputs": [],
   "source": [
    "def iso_check(tbl, j):\n",
    "    tbl.index = tbl.index.map(lambda x: str(x)[:15]) # cut last digits\n",
    "    result = tbl.query('Name in @ENST') # choose certain rows\n",
    "    TPM = result.loc[:, 'TPM']\n",
    "    TPM_arr[iso[j]] = TPM"
   ]
  },
  {
   "cell_type": "code",
   "execution_count": 254,
   "metadata": {},
   "outputs": [],
   "source": [
    "cwd = os.getcwd()\n",
    "j = 0\n",
    "\n",
    "for file in os.listdir(cwd):\n",
    "    filename = os.fsdecode(file)\n",
    "    if filename.endswith('.tsv') and filename != 'annotation.tsv': \n",
    "        tsv =  filename\n",
    "        table = pd.read_csv(tsv, sep='\\t', index_col=0)\n",
    "        iso_check(table, j)\n",
    "        j+=1\n",
    "        continue"
   ]
  },
  {
   "cell_type": "code",
   "execution_count": 259,
   "metadata": {},
   "outputs": [
    {
     "data": {
      "text/html": [
       "<div>\n",
       "<style scoped>\n",
       "    .dataframe tbody tr th:only-of-type {\n",
       "        vertical-align: middle;\n",
       "    }\n",
       "\n",
       "    .dataframe tbody tr th {\n",
       "        vertical-align: top;\n",
       "    }\n",
       "\n",
       "    .dataframe thead th {\n",
       "        text-align: right;\n",
       "    }\n",
       "</style>\n",
       "<table border=\"1\" class=\"dataframe\">\n",
       "  <thead>\n",
       "    <tr style=\"text-align: right;\">\n",
       "      <th></th>\n",
       "      <th>S3</th>\n",
       "      <th>S11</th>\n",
       "      <th>S7</th>\n",
       "      <th>S16</th>\n",
       "      <th>S5</th>\n",
       "      <th>S6</th>\n",
       "      <th>S1</th>\n",
       "    </tr>\n",
       "  </thead>\n",
       "  <tbody>\n",
       "    <tr>\n",
       "      <th>ENST00000428726</th>\n",
       "      <td>16.449133</td>\n",
       "      <td>28.474903</td>\n",
       "      <td>28.812483</td>\n",
       "      <td>8.622146</td>\n",
       "      <td>34.346007</td>\n",
       "      <td>8.007016</td>\n",
       "      <td>15.750429</td>\n",
       "    </tr>\n",
       "    <tr>\n",
       "      <th>ENST00000415148</th>\n",
       "      <td>2.952636</td>\n",
       "      <td>11.724962</td>\n",
       "      <td>13.956879</td>\n",
       "      <td>1.456141</td>\n",
       "      <td>5.577307</td>\n",
       "      <td>5.504699</td>\n",
       "      <td>23.752839</td>\n",
       "    </tr>\n",
       "    <tr>\n",
       "      <th>ENST00000433892</th>\n",
       "      <td>93.564843</td>\n",
       "      <td>110.849820</td>\n",
       "      <td>144.753659</td>\n",
       "      <td>30.988690</td>\n",
       "      <td>108.291728</td>\n",
       "      <td>88.510799</td>\n",
       "      <td>125.510647</td>\n",
       "    </tr>\n",
       "    <tr>\n",
       "      <th>ENST00000263398</th>\n",
       "      <td>55.511174</td>\n",
       "      <td>55.800655</td>\n",
       "      <td>60.899102</td>\n",
       "      <td>20.511373</td>\n",
       "      <td>57.806818</td>\n",
       "      <td>26.138662</td>\n",
       "      <td>45.320655</td>\n",
       "    </tr>\n",
       "    <tr>\n",
       "      <th>ENST00000278386</th>\n",
       "      <td>0.577544</td>\n",
       "      <td>0.000000</td>\n",
       "      <td>0.000000</td>\n",
       "      <td>0.000000</td>\n",
       "      <td>0.000000</td>\n",
       "      <td>0.000000</td>\n",
       "      <td>0.000000</td>\n",
       "    </tr>\n",
       "  </tbody>\n",
       "</table>\n",
       "</div>"
      ],
      "text/plain": [
       "                        S3         S11          S7        S16          S5  \\\n",
       "ENST00000428726  16.449133   28.474903   28.812483   8.622146   34.346007   \n",
       "ENST00000415148   2.952636   11.724962   13.956879   1.456141    5.577307   \n",
       "ENST00000433892  93.564843  110.849820  144.753659  30.988690  108.291728   \n",
       "ENST00000263398  55.511174   55.800655   60.899102  20.511373   57.806818   \n",
       "ENST00000278386   0.577544    0.000000    0.000000   0.000000    0.000000   \n",
       "\n",
       "                        S6          S1  \n",
       "ENST00000428726   8.007016   15.750429  \n",
       "ENST00000415148   5.504699   23.752839  \n",
       "ENST00000433892  88.510799  125.510647  \n",
       "ENST00000263398  26.138662   45.320655  \n",
       "ENST00000278386   0.000000    0.000000  "
      ]
     },
     "execution_count": 259,
     "metadata": {},
     "output_type": "execute_result"
    }
   ],
   "source": [
    "TPM_arr['Transcript'] = CD44\n",
    "transcript = (TPM_arr.loc[:, 'Transcript'].to_list())*7\n",
    "TPM_arr = TPM_arr.drop('Transcript', axis=1)\n",
    "TPM_arr = TPM_arr.drop('Example', axis=1)\n",
    "TPM_arr.head()"
   ]
  },
  {
   "cell_type": "code",
   "execution_count": 260,
   "metadata": {},
   "outputs": [
    {
     "data": {
      "text/html": [
       "<div>\n",
       "<style scoped>\n",
       "    .dataframe tbody tr th:only-of-type {\n",
       "        vertical-align: middle;\n",
       "    }\n",
       "\n",
       "    .dataframe tbody tr th {\n",
       "        vertical-align: top;\n",
       "    }\n",
       "\n",
       "    .dataframe thead th {\n",
       "        text-align: right;\n",
       "    }\n",
       "</style>\n",
       "<table border=\"1\" class=\"dataframe\">\n",
       "  <thead>\n",
       "    <tr style=\"text-align: right;\">\n",
       "      <th></th>\n",
       "      <th>Sample</th>\n",
       "      <th>TPM</th>\n",
       "      <th>Isoforms</th>\n",
       "      <th>Transcript</th>\n",
       "    </tr>\n",
       "  </thead>\n",
       "  <tbody>\n",
       "    <tr>\n",
       "      <th>0</th>\n",
       "      <td>S3</td>\n",
       "      <td>16.449133</td>\n",
       "      <td>ENST00000428726</td>\n",
       "      <td>CD44-208</td>\n",
       "    </tr>\n",
       "    <tr>\n",
       "      <th>1</th>\n",
       "      <td>S3</td>\n",
       "      <td>2.952636</td>\n",
       "      <td>ENST00000415148</td>\n",
       "      <td>CD44-206</td>\n",
       "    </tr>\n",
       "    <tr>\n",
       "      <th>2</th>\n",
       "      <td>S3</td>\n",
       "      <td>93.564843</td>\n",
       "      <td>ENST00000433892</td>\n",
       "      <td>CD44-209</td>\n",
       "    </tr>\n",
       "    <tr>\n",
       "      <th>3</th>\n",
       "      <td>S3</td>\n",
       "      <td>55.511174</td>\n",
       "      <td>ENST00000263398</td>\n",
       "      <td>CD44-201</td>\n",
       "    </tr>\n",
       "    <tr>\n",
       "      <th>4</th>\n",
       "      <td>S3</td>\n",
       "      <td>0.577544</td>\n",
       "      <td>ENST00000278386</td>\n",
       "      <td>CD44-203</td>\n",
       "    </tr>\n",
       "  </tbody>\n",
       "</table>\n",
       "</div>"
      ],
      "text/plain": [
       "  Sample        TPM         Isoforms Transcript\n",
       "0     S3  16.449133  ENST00000428726   CD44-208\n",
       "1     S3   2.952636  ENST00000415148   CD44-206\n",
       "2     S3  93.564843  ENST00000433892   CD44-209\n",
       "3     S3  55.511174  ENST00000263398   CD44-201\n",
       "4     S3   0.577544  ENST00000278386   CD44-203"
      ]
     },
     "execution_count": 260,
     "metadata": {},
     "output_type": "execute_result"
    }
   ],
   "source": [
    "TPM_arr_plot = pd.melt(TPM_arr)\n",
    "TPM_arr_plot = TPM_arr_plot.rename(columns={\"variable\": \"Sample\", \"value\": \"TPM\"})\n",
    "isoform = (TPM_arr.index.tolist())*7\n",
    "TPM_arr_plot['Isoforms'] = isoform\n",
    "TPM_arr_plot['Transcript'] = transcript\n",
    "\n",
    "TPM_arr_plot.head()"
   ]
  },
  {
   "cell_type": "code",
   "execution_count": 276,
   "metadata": {},
   "outputs": [
    {
     "data": {
      "image/png": "[encoded data removed]",
      "text/plain": [
       "<Figure size 432x288 with 1 Axes>"
      ]
     },
     "metadata": {
      "needs_background": "light"
     },
     "output_type": "display_data"
    }
   ],
   "source": [
    "plot = sns.boxplot(y='TPM', x='Transcript', \n",
    "                 data=TPM_arr_plot, \n",
    "                 width=0.5,\n",
    "                 palette=\"Blues_d\")\n",
    "plot.set_xticklabels(labels=['CD44v1', 'CD44v2', 'CD44v3', 'CD44v4', 'CD44v5', 'CD44v6','CD44v7'], rotation=30)\n",
    "plt.tight_layout()"
   ]
  },
  {
   "cell_type": "code",
   "execution_count": 277,
   "metadata": {},
   "outputs": [],
   "source": [
    "plot.get_figure().savefig('samples_TPM.png', dpi=300)"
   ]
  },
  {
   "cell_type": "code",
   "execution_count": null,
   "metadata": {},
   "outputs": [],
   "source": []
  }
 ],
 "metadata": {
  "kernelspec": {
   "display_name": "Python 3",
   "language": "python",
   "name": "python3"
  },
  "language_info": {
   "codemirror_mode": {
    "name": "ipython",
    "version": 3
   },
   "file_extension": ".py",
   "mimetype": "text/x-python",
   "name": "python",
   "nbconvert_exporter": "python",
   "pygments_lexer": "ipython3",
   "version": "3.8.5"
  }
 },
 "nbformat": 4,
 "nbformat_minor": 4
}
