{
 "cells": [
  {
   "cell_type": "code",
   "execution_count": 1,
   "metadata": {},
   "outputs": [
    {
     "name": "stdout",
     "output_type": "stream",
     "text": [
      "Collecting matplotlib_venn\n",
      "  Downloading https://files.pythonhosted.org/packages/c7/05/e084c8331ff7ab8b0e01c7cdb7c18854852340bf3096193510c902ffa1f1/matplotlib-venn-0.11.5.zip (40kB)\n",
      "Requirement already satisfied: matplotlib in c:\\users\\user.desktop-ckr469d\\anaconda3\\lib\\site-packages (from matplotlib_venn) (3.1.1)\n",
      "Requirement already satisfied: numpy in c:\\users\\user.desktop-ckr469d\\anaconda3\\lib\\site-packages (from matplotlib_venn) (1.16.5)\n",
      "Requirement already satisfied: scipy in c:\\users\\user.desktop-ckr469d\\anaconda3\\lib\\site-packages (from matplotlib_venn) (1.3.1)\n",
      "Requirement already satisfied: cycler>=0.10 in c:\\users\\user.desktop-ckr469d\\anaconda3\\lib\\site-packages (from matplotlib->matplotlib_venn) (0.10.0)\n",
      "Requirement already satisfied: kiwisolver>=1.0.1 in c:\\users\\user.desktop-ckr469d\\anaconda3\\lib\\site-packages (from matplotlib->matplotlib_venn) (1.1.0)\n",
      "Requirement already satisfied: pyparsing!=2.0.4,!=2.1.2,!=2.1.6,>=2.0.1 in c:\\users\\user.desktop-ckr469d\\anaconda3\\lib\\site-packages (from matplotlib->matplotlib_venn) (2.4.2)\n",
      "Requirement already satisfied: python-dateutil>=2.1 in c:\\users\\user.desktop-ckr469d\\anaconda3\\lib\\site-packages (from matplotlib->matplotlib_venn) (2.8.0)\n",
      "Requirement already satisfied: six in c:\\users\\user.desktop-ckr469d\\anaconda3\\lib\\site-packages (from cycler>=0.10->matplotlib->matplotlib_venn) (1.12.0)\n",
      "Requirement already satisfied: setuptools in c:\\users\\user.desktop-ckr469d\\anaconda3\\lib\\site-packages (from kiwisolver>=1.0.1->matplotlib->matplotlib_venn) (41.4.0)\n",
      "Building wheels for collected packages: matplotlib-venn\n",
      "  Building wheel for matplotlib-venn (setup.py): started\n",
      "  Building wheel for matplotlib-venn (setup.py): finished with status 'done'\n",
      "  Created wheel for matplotlib-venn: filename=matplotlib_venn-0.11.5-cp37-none-any.whl size=32400 sha256=4a4d0411bc8ddb3bf04a101ef9784c5e1d4471ecf94e7fa29a67100f397cd837\n",
      "  Stored in directory: C:\\Users\\user.DESKTOP-CKR469D\\AppData\\Local\\pip\\Cache\\wheels\\d8\\88\\2f\\e41518cb16e58109e8d14dc5dd7ef8166c82dce86c7c6d6c80\n",
      "Successfully built matplotlib-venn\n",
      "Installing collected packages: matplotlib-venn\n",
      "Successfully installed matplotlib-venn-0.11.5\n",
      "Note: you may need to restart the kernel to use updated packages.\n"
     ]
    }
   ],
   "source": [
    "pip install matplotlib_venn"
   ]
  },
  {
   "cell_type": "code",
   "execution_count": null,
   "metadata": {},
   "outputs": [],
   "source": [
    "import matplotlib_venn as vplt\n",
    "from matplotlib import pyplot as plt"
   ]
  }
 ],
 "metadata": {
  "kernelspec": {
   "display_name": "Python 3",
   "language": "python",
   "name": "python3"
  },
  "language_info": {
   "codemirror_mode": {
    "name": "ipython",
    "version": 3
   },
   "file_extension": ".py",
   "mimetype": "text/x-python",
   "name": "python",
   "nbconvert_exporter": "python",
   "pygments_lexer": "ipython3",
   "version": "3.7.4"
  }
 },
 "nbformat": 4,
 "nbformat_minor": 2
}
