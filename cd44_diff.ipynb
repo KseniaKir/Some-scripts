{
 "cells": [
  {
   "cell_type": "code",
   "execution_count": 2,
   "metadata": {},
   "outputs": [
    {
     "data": {
      "text/html": [
       "<div>\n",
       "<style scoped>\n",
       "    .dataframe tbody tr th:only-of-type {\n",
       "        vertical-align: middle;\n",
       "    }\n",
       "\n",
       "    .dataframe tbody tr th {\n",
       "        vertical-align: top;\n",
       "    }\n",
       "\n",
       "    .dataframe thead th {\n",
       "        text-align: right;\n",
       "    }\n",
       "</style>\n",
       "<table border=\"1\" class=\"dataframe\">\n",
       "  <thead>\n",
       "    <tr style=\"text-align: right;\">\n",
       "      <th></th>\n",
       "      <th>22RV1_PROSTATE</th>\n",
       "      <th>2313287_STOMACH</th>\n",
       "      <th>253JBV_URINARY_TRACT</th>\n",
       "      <th>253J_URINARY_TRACT</th>\n",
       "      <th>42MGBA_CENTRAL_NERVOUS_SYSTEM</th>\n",
       "      <th>5637_URINARY_TRACT</th>\n",
       "      <th>59M_OVARY</th>\n",
       "      <th>639V_URINARY_TRACT</th>\n",
       "      <th>647V_URINARY_TRACT</th>\n",
       "      <th>697_HAEMATOPOIETIC_AND_LYMPHOID_TISSUE</th>\n",
       "      <th>...</th>\n",
       "      <th>WSUDLCL2_HAEMATOPOIETIC_AND_LYMPHOID_TISSUE</th>\n",
       "      <th>YAPC_PANCREAS</th>\n",
       "      <th>YD10B_UPPER_AERODIGESTIVE_TRACT</th>\n",
       "      <th>YD15_SALIVARY_GLAND</th>\n",
       "      <th>YD38_UPPER_AERODIGESTIVE_TRACT</th>\n",
       "      <th>YD8_UPPER_AERODIGESTIVE_TRACT</th>\n",
       "      <th>YH13_CENTRAL_NERVOUS_SYSTEM</th>\n",
       "      <th>YKG1_CENTRAL_NERVOUS_SYSTEM</th>\n",
       "      <th>ZR751_BREAST</th>\n",
       "      <th>ZR7530_BREAST</th>\n",
       "    </tr>\n",
       "    <tr>\n",
       "      <th>transcript_id</th>\n",
       "      <th></th>\n",
       "      <th></th>\n",
       "      <th></th>\n",
       "      <th></th>\n",
       "      <th></th>\n",
       "      <th></th>\n",
       "      <th></th>\n",
       "      <th></th>\n",
       "      <th></th>\n",
       "      <th></th>\n",
       "      <th></th>\n",
       "      <th></th>\n",
       "      <th></th>\n",
       "      <th></th>\n",
       "      <th></th>\n",
       "      <th></th>\n",
       "      <th></th>\n",
       "      <th></th>\n",
       "      <th></th>\n",
       "      <th></th>\n",
       "      <th></th>\n",
       "    </tr>\n",
       "  </thead>\n",
       "  <tbody>\n",
       "    <tr>\n",
       "      <th>ENST00000373020.4</th>\n",
       "      <td>4.50</td>\n",
       "      <td>6.72</td>\n",
       "      <td>20.94</td>\n",
       "      <td>21.68</td>\n",
       "      <td>22.18</td>\n",
       "      <td>55.20</td>\n",
       "      <td>14.99</td>\n",
       "      <td>30.28</td>\n",
       "      <td>58.09</td>\n",
       "      <td>0.11</td>\n",
       "      <td>...</td>\n",
       "      <td>0.47</td>\n",
       "      <td>48.71</td>\n",
       "      <td>14.11</td>\n",
       "      <td>24.13</td>\n",
       "      <td>20.94</td>\n",
       "      <td>45.40</td>\n",
       "      <td>28.60</td>\n",
       "      <td>56.54</td>\n",
       "      <td>7.89</td>\n",
       "      <td>16.03</td>\n",
       "    </tr>\n",
       "    <tr>\n",
       "      <th>ENST00000494424.1</th>\n",
       "      <td>0.29</td>\n",
       "      <td>0.12</td>\n",
       "      <td>0.58</td>\n",
       "      <td>0.74</td>\n",
       "      <td>0.28</td>\n",
       "      <td>0.47</td>\n",
       "      <td>0.22</td>\n",
       "      <td>0.09</td>\n",
       "      <td>0.32</td>\n",
       "      <td>0.00</td>\n",
       "      <td>...</td>\n",
       "      <td>0.28</td>\n",
       "      <td>0.45</td>\n",
       "      <td>0.00</td>\n",
       "      <td>0.00</td>\n",
       "      <td>0.00</td>\n",
       "      <td>1.11</td>\n",
       "      <td>0.00</td>\n",
       "      <td>1.99</td>\n",
       "      <td>0.00</td>\n",
       "      <td>0.19</td>\n",
       "    </tr>\n",
       "    <tr>\n",
       "      <th>ENST00000496771.1</th>\n",
       "      <td>0.49</td>\n",
       "      <td>0.16</td>\n",
       "      <td>1.28</td>\n",
       "      <td>0.46</td>\n",
       "      <td>0.63</td>\n",
       "      <td>2.27</td>\n",
       "      <td>1.10</td>\n",
       "      <td>1.65</td>\n",
       "      <td>2.12</td>\n",
       "      <td>0.00</td>\n",
       "      <td>...</td>\n",
       "      <td>0.00</td>\n",
       "      <td>1.14</td>\n",
       "      <td>0.07</td>\n",
       "      <td>0.00</td>\n",
       "      <td>0.00</td>\n",
       "      <td>1.45</td>\n",
       "      <td>0.32</td>\n",
       "      <td>2.55</td>\n",
       "      <td>0.23</td>\n",
       "      <td>0.60</td>\n",
       "    </tr>\n",
       "    <tr>\n",
       "      <th>ENST00000373031.4</th>\n",
       "      <td>0.00</td>\n",
       "      <td>0.00</td>\n",
       "      <td>0.00</td>\n",
       "      <td>0.00</td>\n",
       "      <td>0.00</td>\n",
       "      <td>0.00</td>\n",
       "      <td>0.00</td>\n",
       "      <td>0.00</td>\n",
       "      <td>0.00</td>\n",
       "      <td>0.00</td>\n",
       "      <td>...</td>\n",
       "      <td>0.00</td>\n",
       "      <td>0.00</td>\n",
       "      <td>0.00</td>\n",
       "      <td>0.00</td>\n",
       "      <td>0.00</td>\n",
       "      <td>0.00</td>\n",
       "      <td>0.00</td>\n",
       "      <td>0.00</td>\n",
       "      <td>0.00</td>\n",
       "      <td>0.00</td>\n",
       "    </tr>\n",
       "    <tr>\n",
       "      <th>ENST00000485971.1</th>\n",
       "      <td>0.00</td>\n",
       "      <td>0.00</td>\n",
       "      <td>0.00</td>\n",
       "      <td>0.00</td>\n",
       "      <td>0.00</td>\n",
       "      <td>0.00</td>\n",
       "      <td>0.00</td>\n",
       "      <td>0.00</td>\n",
       "      <td>0.00</td>\n",
       "      <td>0.00</td>\n",
       "      <td>...</td>\n",
       "      <td>0.00</td>\n",
       "      <td>0.00</td>\n",
       "      <td>0.00</td>\n",
       "      <td>0.00</td>\n",
       "      <td>0.00</td>\n",
       "      <td>0.00</td>\n",
       "      <td>0.00</td>\n",
       "      <td>0.00</td>\n",
       "      <td>0.00</td>\n",
       "      <td>0.00</td>\n",
       "    </tr>\n",
       "  </tbody>\n",
       "</table>\n",
       "<p>5 rows × 1019 columns</p>\n",
       "</div>"
      ],
      "text/plain": [
       "                   22RV1_PROSTATE  2313287_STOMACH  253JBV_URINARY_TRACT  \\\n",
       "transcript_id                                                              \n",
       "ENST00000373020.4            4.50             6.72                 20.94   \n",
       "ENST00000494424.1            0.29             0.12                  0.58   \n",
       "ENST00000496771.1            0.49             0.16                  1.28   \n",
       "ENST00000373031.4            0.00             0.00                  0.00   \n",
       "ENST00000485971.1            0.00             0.00                  0.00   \n",
       "\n",
       "                   253J_URINARY_TRACT  42MGBA_CENTRAL_NERVOUS_SYSTEM  \\\n",
       "transcript_id                                                          \n",
       "ENST00000373020.4               21.68                          22.18   \n",
       "ENST00000494424.1                0.74                           0.28   \n",
       "ENST00000496771.1                0.46                           0.63   \n",
       "ENST00000373031.4                0.00                           0.00   \n",
       "ENST00000485971.1                0.00                           0.00   \n",
       "\n",
       "                   5637_URINARY_TRACT  59M_OVARY  639V_URINARY_TRACT  \\\n",
       "transcript_id                                                          \n",
       "ENST00000373020.4               55.20      14.99               30.28   \n",
       "ENST00000494424.1                0.47       0.22                0.09   \n",
       "ENST00000496771.1                2.27       1.10                1.65   \n",
       "ENST00000373031.4                0.00       0.00                0.00   \n",
       "ENST00000485971.1                0.00       0.00                0.00   \n",
       "\n",
       "                   647V_URINARY_TRACT  697_HAEMATOPOIETIC_AND_LYMPHOID_TISSUE  \\\n",
       "transcript_id                                                                   \n",
       "ENST00000373020.4               58.09                                    0.11   \n",
       "ENST00000494424.1                0.32                                    0.00   \n",
       "ENST00000496771.1                2.12                                    0.00   \n",
       "ENST00000373031.4                0.00                                    0.00   \n",
       "ENST00000485971.1                0.00                                    0.00   \n",
       "\n",
       "                   ...  WSUDLCL2_HAEMATOPOIETIC_AND_LYMPHOID_TISSUE  \\\n",
       "transcript_id      ...                                                \n",
       "ENST00000373020.4  ...                                         0.47   \n",
       "ENST00000494424.1  ...                                         0.28   \n",
       "ENST00000496771.1  ...                                         0.00   \n",
       "ENST00000373031.4  ...                                         0.00   \n",
       "ENST00000485971.1  ...                                         0.00   \n",
       "\n",
       "                   YAPC_PANCREAS  YD10B_UPPER_AERODIGESTIVE_TRACT  \\\n",
       "transcript_id                                                       \n",
       "ENST00000373020.4          48.71                            14.11   \n",
       "ENST00000494424.1           0.45                             0.00   \n",
       "ENST00000496771.1           1.14                             0.07   \n",
       "ENST00000373031.4           0.00                             0.00   \n",
       "ENST00000485971.1           0.00                             0.00   \n",
       "\n",
       "                   YD15_SALIVARY_GLAND  YD38_UPPER_AERODIGESTIVE_TRACT  \\\n",
       "transcript_id                                                            \n",
       "ENST00000373020.4                24.13                           20.94   \n",
       "ENST00000494424.1                 0.00                            0.00   \n",
       "ENST00000496771.1                 0.00                            0.00   \n",
       "ENST00000373031.4                 0.00                            0.00   \n",
       "ENST00000485971.1                 0.00                            0.00   \n",
       "\n",
       "                   YD8_UPPER_AERODIGESTIVE_TRACT  YH13_CENTRAL_NERVOUS_SYSTEM  \\\n",
       "transcript_id                                                                   \n",
       "ENST00000373020.4                          45.40                        28.60   \n",
       "ENST00000494424.1                           1.11                         0.00   \n",
       "ENST00000496771.1                           1.45                         0.32   \n",
       "ENST00000373031.4                           0.00                         0.00   \n",
       "ENST00000485971.1                           0.00                         0.00   \n",
       "\n",
       "                   YKG1_CENTRAL_NERVOUS_SYSTEM  ZR751_BREAST  ZR7530_BREAST  \n",
       "transcript_id                                                                \n",
       "ENST00000373020.4                        56.54          7.89          16.03  \n",
       "ENST00000494424.1                         1.99          0.00           0.19  \n",
       "ENST00000496771.1                         2.55          0.23           0.60  \n",
       "ENST00000373031.4                         0.00          0.00           0.00  \n",
       "ENST00000485971.1                         0.00          0.00           0.00  \n",
       "\n",
       "[5 rows x 1019 columns]"
      ]
     },
     "execution_count": 2,
     "metadata": {},
     "output_type": "execute_result"
    }
   ],
   "source": [
    "import pandas as pd\n",
    "import numpy as np\n",
    "\n",
    "tsv =  'CCLE_RNAseq_rsem_transcripts_tpm_20180929.tsv'\n",
    "df = pd.read_csv(tsv, sep='\\t', index_col=1)\n",
    "df = df.drop(df.columns[0], axis=1)\n",
    "df.head()"
   ]
  },
  {
   "cell_type": "code",
   "execution_count": 4,
   "metadata": {},
   "outputs": [],
   "source": [
    "df[1:1019] = df[1:1019].apply(pd.to_numeric)\n",
    "df = df.add(1)\n",
    "df = df.apply(np.log2)"
   ]
  },
  {
   "cell_type": "code",
   "execution_count": 5,
   "metadata": {},
   "outputs": [
    {
     "data": {
      "text/html": [
       "<div>\n",
       "<style scoped>\n",
       "    .dataframe tbody tr th:only-of-type {\n",
       "        vertical-align: middle;\n",
       "    }\n",
       "\n",
       "    .dataframe tbody tr th {\n",
       "        vertical-align: top;\n",
       "    }\n",
       "\n",
       "    .dataframe thead th {\n",
       "        text-align: right;\n",
       "    }\n",
       "</style>\n",
       "<table border=\"1\" class=\"dataframe\">\n",
       "  <thead>\n",
       "    <tr style=\"text-align: right;\">\n",
       "      <th></th>\n",
       "      <th>22RV1_PROSTATE</th>\n",
       "      <th>2313287_STOMACH</th>\n",
       "      <th>253JBV_URINARY_TRACT</th>\n",
       "      <th>253J_URINARY_TRACT</th>\n",
       "      <th>42MGBA_CENTRAL_NERVOUS_SYSTEM</th>\n",
       "      <th>5637_URINARY_TRACT</th>\n",
       "      <th>59M_OVARY</th>\n",
       "      <th>639V_URINARY_TRACT</th>\n",
       "      <th>647V_URINARY_TRACT</th>\n",
       "      <th>697_HAEMATOPOIETIC_AND_LYMPHOID_TISSUE</th>\n",
       "      <th>...</th>\n",
       "      <th>WSUDLCL2_HAEMATOPOIETIC_AND_LYMPHOID_TISSUE</th>\n",
       "      <th>YAPC_PANCREAS</th>\n",
       "      <th>YD10B_UPPER_AERODIGESTIVE_TRACT</th>\n",
       "      <th>YD15_SALIVARY_GLAND</th>\n",
       "      <th>YD38_UPPER_AERODIGESTIVE_TRACT</th>\n",
       "      <th>YD8_UPPER_AERODIGESTIVE_TRACT</th>\n",
       "      <th>YH13_CENTRAL_NERVOUS_SYSTEM</th>\n",
       "      <th>YKG1_CENTRAL_NERVOUS_SYSTEM</th>\n",
       "      <th>ZR751_BREAST</th>\n",
       "      <th>ZR7530_BREAST</th>\n",
       "    </tr>\n",
       "    <tr>\n",
       "      <th>transcript_id</th>\n",
       "      <th></th>\n",
       "      <th></th>\n",
       "      <th></th>\n",
       "      <th></th>\n",
       "      <th></th>\n",
       "      <th></th>\n",
       "      <th></th>\n",
       "      <th></th>\n",
       "      <th></th>\n",
       "      <th></th>\n",
       "      <th></th>\n",
       "      <th></th>\n",
       "      <th></th>\n",
       "      <th></th>\n",
       "      <th></th>\n",
       "      <th></th>\n",
       "      <th></th>\n",
       "      <th></th>\n",
       "      <th></th>\n",
       "      <th></th>\n",
       "      <th></th>\n",
       "    </tr>\n",
       "  </thead>\n",
       "  <tbody>\n",
       "    <tr>\n",
       "      <th>ENST00000263398.6</th>\n",
       "      <td>4.157044</td>\n",
       "      <td>3.966246</td>\n",
       "      <td>6.98402</td>\n",
       "      <td>6.363697</td>\n",
       "      <td>7.126911</td>\n",
       "      <td>7.724173</td>\n",
       "      <td>6.716991</td>\n",
       "      <td>5.584662</td>\n",
       "      <td>4.678635</td>\n",
       "      <td>0.432959</td>\n",
       "      <td>...</td>\n",
       "      <td>1.536053</td>\n",
       "      <td>5.704872</td>\n",
       "      <td>7.024918</td>\n",
       "      <td>8.833712</td>\n",
       "      <td>5.414136</td>\n",
       "      <td>7.732201</td>\n",
       "      <td>7.817495</td>\n",
       "      <td>7.020369</td>\n",
       "      <td>2.577731</td>\n",
       "      <td>2.650765</td>\n",
       "    </tr>\n",
       "  </tbody>\n",
       "</table>\n",
       "<p>1 rows × 1019 columns</p>\n",
       "</div>"
      ],
      "text/plain": [
       "                   22RV1_PROSTATE  2313287_STOMACH  253JBV_URINARY_TRACT  \\\n",
       "transcript_id                                                              \n",
       "ENST00000263398.6        4.157044         3.966246               6.98402   \n",
       "\n",
       "                   253J_URINARY_TRACT  42MGBA_CENTRAL_NERVOUS_SYSTEM  \\\n",
       "transcript_id                                                          \n",
       "ENST00000263398.6            6.363697                       7.126911   \n",
       "\n",
       "                   5637_URINARY_TRACT  59M_OVARY  639V_URINARY_TRACT  \\\n",
       "transcript_id                                                          \n",
       "ENST00000263398.6            7.724173   6.716991            5.584662   \n",
       "\n",
       "                   647V_URINARY_TRACT  697_HAEMATOPOIETIC_AND_LYMPHOID_TISSUE  \\\n",
       "transcript_id                                                                   \n",
       "ENST00000263398.6            4.678635                                0.432959   \n",
       "\n",
       "                   ...  WSUDLCL2_HAEMATOPOIETIC_AND_LYMPHOID_TISSUE  \\\n",
       "transcript_id      ...                                                \n",
       "ENST00000263398.6  ...                                     1.536053   \n",
       "\n",
       "                   YAPC_PANCREAS  YD10B_UPPER_AERODIGESTIVE_TRACT  \\\n",
       "transcript_id                                                       \n",
       "ENST00000263398.6       5.704872                         7.024918   \n",
       "\n",
       "                   YD15_SALIVARY_GLAND  YD38_UPPER_AERODIGESTIVE_TRACT  \\\n",
       "transcript_id                                                            \n",
       "ENST00000263398.6             8.833712                        5.414136   \n",
       "\n",
       "                   YD8_UPPER_AERODIGESTIVE_TRACT  YH13_CENTRAL_NERVOUS_SYSTEM  \\\n",
       "transcript_id                                                                   \n",
       "ENST00000263398.6                       7.732201                     7.817495   \n",
       "\n",
       "                   YKG1_CENTRAL_NERVOUS_SYSTEM  ZR751_BREAST  ZR7530_BREAST  \n",
       "transcript_id                                                                \n",
       "ENST00000263398.6                     7.020369      2.577731       2.650765  \n",
       "\n",
       "[1 rows x 1019 columns]"
      ]
     },
     "execution_count": 5,
     "metadata": {},
     "output_type": "execute_result"
    }
   ],
   "source": [
    "df[['ENST00000263398' in s for s in df.index]] # choose required genes"
   ]
  },
  {
   "cell_type": "code",
   "execution_count": 6,
   "metadata": {},
   "outputs": [
    {
     "data": {
      "text/html": [
       "<div>\n",
       "<style scoped>\n",
       "    .dataframe tbody tr th:only-of-type {\n",
       "        vertical-align: middle;\n",
       "    }\n",
       "\n",
       "    .dataframe tbody tr th {\n",
       "        vertical-align: top;\n",
       "    }\n",
       "\n",
       "    .dataframe thead th {\n",
       "        text-align: right;\n",
       "    }\n",
       "</style>\n",
       "<table border=\"1\" class=\"dataframe\">\n",
       "  <thead>\n",
       "    <tr style=\"text-align: right;\">\n",
       "      <th></th>\n",
       "      <th>22RV1_PROSTATE</th>\n",
       "      <th>2313287_STOMACH</th>\n",
       "      <th>253JBV_URINARY_TRACT</th>\n",
       "      <th>253J_URINARY_TRACT</th>\n",
       "      <th>42MGBA_CENTRAL_NERVOUS_SYSTEM</th>\n",
       "      <th>5637_URINARY_TRACT</th>\n",
       "      <th>59M_OVARY</th>\n",
       "      <th>639V_URINARY_TRACT</th>\n",
       "      <th>647V_URINARY_TRACT</th>\n",
       "      <th>697_HAEMATOPOIETIC_AND_LYMPHOID_TISSUE</th>\n",
       "      <th>...</th>\n",
       "      <th>WSUDLCL2_HAEMATOPOIETIC_AND_LYMPHOID_TISSUE</th>\n",
       "      <th>YAPC_PANCREAS</th>\n",
       "      <th>YD10B_UPPER_AERODIGESTIVE_TRACT</th>\n",
       "      <th>YD15_SALIVARY_GLAND</th>\n",
       "      <th>YD38_UPPER_AERODIGESTIVE_TRACT</th>\n",
       "      <th>YD8_UPPER_AERODIGESTIVE_TRACT</th>\n",
       "      <th>YH13_CENTRAL_NERVOUS_SYSTEM</th>\n",
       "      <th>YKG1_CENTRAL_NERVOUS_SYSTEM</th>\n",
       "      <th>ZR751_BREAST</th>\n",
       "      <th>ZR7530_BREAST</th>\n",
       "    </tr>\n",
       "    <tr>\n",
       "      <th>transcript_id</th>\n",
       "      <th></th>\n",
       "      <th></th>\n",
       "      <th></th>\n",
       "      <th></th>\n",
       "      <th></th>\n",
       "      <th></th>\n",
       "      <th></th>\n",
       "      <th></th>\n",
       "      <th></th>\n",
       "      <th></th>\n",
       "      <th></th>\n",
       "      <th></th>\n",
       "      <th></th>\n",
       "      <th></th>\n",
       "      <th></th>\n",
       "      <th></th>\n",
       "      <th></th>\n",
       "      <th></th>\n",
       "      <th></th>\n",
       "      <th></th>\n",
       "      <th></th>\n",
       "    </tr>\n",
       "  </thead>\n",
       "  <tbody>\n",
       "    <tr>\n",
       "      <th>ENST00000433892.2</th>\n",
       "      <td>4.231125</td>\n",
       "      <td>4.500802</td>\n",
       "      <td>1.0</td>\n",
       "      <td>1.269033</td>\n",
       "      <td>1.250962</td>\n",
       "      <td>8.234482</td>\n",
       "      <td>3.078951</td>\n",
       "      <td>1.646163</td>\n",
       "      <td>5.68538</td>\n",
       "      <td>0.111031</td>\n",
       "      <td>...</td>\n",
       "      <td>0.555816</td>\n",
       "      <td>5.460743</td>\n",
       "      <td>5.843733</td>\n",
       "      <td>8.602253</td>\n",
       "      <td>6.783457</td>\n",
       "      <td>3.300124</td>\n",
       "      <td>2.06695</td>\n",
       "      <td>0.83996</td>\n",
       "      <td>2.157044</td>\n",
       "      <td>2.435629</td>\n",
       "    </tr>\n",
       "  </tbody>\n",
       "</table>\n",
       "<p>1 rows × 1019 columns</p>\n",
       "</div>"
      ],
      "text/plain": [
       "                   22RV1_PROSTATE  2313287_STOMACH  253JBV_URINARY_TRACT  \\\n",
       "transcript_id                                                              \n",
       "ENST00000433892.2        4.231125         4.500802                   1.0   \n",
       "\n",
       "                   253J_URINARY_TRACT  42MGBA_CENTRAL_NERVOUS_SYSTEM  \\\n",
       "transcript_id                                                          \n",
       "ENST00000433892.2            1.269033                       1.250962   \n",
       "\n",
       "                   5637_URINARY_TRACT  59M_OVARY  639V_URINARY_TRACT  \\\n",
       "transcript_id                                                          \n",
       "ENST00000433892.2            8.234482   3.078951            1.646163   \n",
       "\n",
       "                   647V_URINARY_TRACT  697_HAEMATOPOIETIC_AND_LYMPHOID_TISSUE  \\\n",
       "transcript_id                                                                   \n",
       "ENST00000433892.2             5.68538                                0.111031   \n",
       "\n",
       "                   ...  WSUDLCL2_HAEMATOPOIETIC_AND_LYMPHOID_TISSUE  \\\n",
       "transcript_id      ...                                                \n",
       "ENST00000433892.2  ...                                     0.555816   \n",
       "\n",
       "                   YAPC_PANCREAS  YD10B_UPPER_AERODIGESTIVE_TRACT  \\\n",
       "transcript_id                                                       \n",
       "ENST00000433892.2       5.460743                         5.843733   \n",
       "\n",
       "                   YD15_SALIVARY_GLAND  YD38_UPPER_AERODIGESTIVE_TRACT  \\\n",
       "transcript_id                                                            \n",
       "ENST00000433892.2             8.602253                        6.783457   \n",
       "\n",
       "                   YD8_UPPER_AERODIGESTIVE_TRACT  YH13_CENTRAL_NERVOUS_SYSTEM  \\\n",
       "transcript_id                                                                   \n",
       "ENST00000433892.2                       3.300124                      2.06695   \n",
       "\n",
       "                   YKG1_CENTRAL_NERVOUS_SYSTEM  ZR751_BREAST  ZR7530_BREAST  \n",
       "transcript_id                                                                \n",
       "ENST00000433892.2                      0.83996      2.157044       2.435629  \n",
       "\n",
       "[1 rows x 1019 columns]"
      ]
     },
     "execution_count": 6,
     "metadata": {},
     "output_type": "execute_result"
    }
   ],
   "source": [
    "df[['ENST00000433892' in s for s in df.index]]"
   ]
  },
  {
   "cell_type": "code",
   "execution_count": 7,
   "metadata": {},
   "outputs": [],
   "source": [
    "df.loc['difference', :] = df.loc['ENST00000263398.6', :].subtract(df.loc['ENST00000433892.2', :])\n",
    "x = pd.Series(df.loc['difference', :])"
   ]
  },
  {
   "cell_type": "code",
   "execution_count": 121,
   "metadata": {},
   "outputs": [
    {
     "name": "stderr",
     "output_type": "stream",
     "text": [
      "/Users/kseniakirdey/opt/anaconda3/lib/python3.8/site-packages/scipy/stats/stats.py:4196: SpearmanRConstantInputWarning: An input array is constant; the correlation coefficent is not defined.\n",
      "  warnings.warn(SpearmanRConstantInputWarning())\n"
     ]
    }
   ],
   "source": [
    "# make a list with correlation between genes' expressions and differences in isoform expressions\n",
    "m = []\n",
    "for i in range (196520):\n",
    "    y = pd.Series(df.iloc[i, :])\n",
    "    m.append(x.corr(y, method='spearman'))"
   ]
  },
  {
   "cell_type": "code",
   "execution_count": 122,
   "metadata": {},
   "outputs": [],
   "source": [
    "header = df.index.to_list()\n",
    "# make two lists - for positive and negative correlations\n",
    "l_pl = []\n",
    "l_min = []\n",
    "h_pl = []\n",
    "h_min = []\n",
    "j = 0\n",
    "for i in m:\n",
    "    if i>0:\n",
    "        l_pl.append(i)\n",
    "        h_pl.append(header[j])\n",
    "    elif i<0:\n",
    "        l_min.append(i)\n",
    "        h_min.append(header[j])\n",
    "    j += 1"
   ]
  },
  {
   "cell_type": "code",
   "execution_count": 123,
   "metadata": {},
   "outputs": [],
   "source": [
    "# make DFs for plots\n",
    "df_pos = pd.DataFrame(h_pl, columns =['ENST'])\n",
    "df_neg = pd.DataFrame(h_min, columns =['ENST'])\n",
    "df_pos['corr'] = l_pl\n",
    "df_neg['corr'] = l_min"
   ]
  },
  {
   "cell_type": "code",
   "execution_count": 144,
   "metadata": {},
   "outputs": [],
   "source": [
    "df_pos = df_pos.set_index('ENST')\n",
    "df_neg = df_neg.set_index('ENST')\n",
    "df_pos.to_csv('Positive_corr_all.csv', index=True)\n",
    "df_neg.to_csv('Negative_corr_all.csv', index=True)"
   ]
  },
  {
   "cell_type": "code",
   "execution_count": 124,
   "metadata": {},
   "outputs": [],
   "source": [
    "df_pos_pl = df_pos.sort_values(by=['corr'], ascending=False)\n",
    "df_pos_pl = df_pos_pl[:10]\n",
    "k1 = df_pos_pl.loc[:, 'ENST']\n",
    "k1 = k1.map(lambda x: str(x)[:-2])\n",
    "k1 = k1.to_list()\n",
    "\n",
    "df_neg_pl = df_neg.sort_values(by=['corr'], ascending=True)\n",
    "df_neg_pl = df_neg_pl[:10]\n",
    "k2 = df_neg_pl.loc[:, 'ENST']\n",
    "k2 = k2.map(lambda x: str(x)[:-2])\n",
    "k2 = k2.to_list()"
   ]
  },
  {
   "cell_type": "code",
   "execution_count": 125,
   "metadata": {},
   "outputs": [],
   "source": [
    "cl = 'annotation.tsv'\n",
    "df_ann = pd.read_csv(cl, sep='\\t', index_col=1)\n",
    "\n",
    "genes_pos = []\n",
    "nums_pos = []\n",
    "out_pos = []\n",
    "for i in k1:\n",
    "    try:\n",
    "        j = pd.Series(df_ann.loc[i, :])\n",
    "        genes_pos.append(j)\n",
    "    except:\n",
    "        out_pos.append(i)\n",
    "        nums_pos.append(k1.index(i))"
   ]
  },
  {
   "cell_type": "code",
   "execution_count": 126,
   "metadata": {},
   "outputs": [
    {
     "name": "stdout",
     "output_type": "stream",
     "text": [
      "['ENST00000425428', 'ENST00000279452', 'ENST00000224237', 'ENST00000456355', 'ENST00000487938', 'ENST00000528086', 'ENST00000485947', 'ENST00000495528', 'ENST00000469543']\n",
      "[0, 1, 3, 4, 5, 6, 7, 8, 9]\n"
     ]
    }
   ],
   "source": [
    "print(out_pos)\n",
    "print(nums_pos)"
   ]
  },
  {
   "cell_type": "code",
   "execution_count": 128,
   "metadata": {},
   "outputs": [],
   "source": [
    "df_pos_g = pd.DataFrame(genes_pos, columns=df_ann.columns)\n",
    "# l_pos = df_pos_g['Transcript name'].tolist() # CD44-210, index = 2\n",
    "l_pos = ['CD44-207', 'CD44-204', 'CD44-210', 'VIM-201', 'AL133415.1-201', 'VIM-206', 'CD44-227',\n",
    "         'VIM-205', 'VIM-207', 'VIM-203']"
   ]
  },
  {
   "cell_type": "code",
   "execution_count": 129,
   "metadata": {},
   "outputs": [],
   "source": [
    "genes_neg = []\n",
    "out_neg = []\n",
    "nums_neg = []\n",
    "for i in k2:\n",
    "    try:\n",
    "        g = pd.Series(df_ann.loc[i, :])\n",
    "        genes_neg.append(g)\n",
    "    except:\n",
    "        out_neg.append(i)\n",
    "        nums_neg.append(k2.index(i))"
   ]
  },
  {
   "cell_type": "code",
   "execution_count": 130,
   "metadata": {},
   "outputs": [
    {
     "name": "stdout",
     "output_type": "stream",
     "text": [
      "['ENST00000577500', 'ENST00000591795', 'ENST00000474691']\n",
      "[2, 7, 8]\n"
     ]
    }
   ],
   "source": [
    "print(out_neg)\n",
    "print(nums_neg)"
   ]
  },
  {
   "cell_type": "code",
   "execution_count": 132,
   "metadata": {},
   "outputs": [],
   "source": [
    "df_neg_g = pd.DataFrame(genes_neg, columns=df_ann.columns)\n",
    "l_neg = df_neg_g['Transcript name'].tolist()"
   ]
  },
  {
   "cell_type": "code",
   "execution_count": 133,
   "metadata": {},
   "outputs": [
    {
     "data": {
      "text/plain": [
       "['SLK-202',\n",
       " 'KDF1-201',\n",
       " 'LLGL2-010',\n",
       " 'CRB3-204',\n",
       " 'EPB41L5-203',\n",
       " 'ESRP1-202',\n",
       " 'LLGL2-202',\n",
       " 'DENND1C-213',\n",
       " 'EPCAM-205',\n",
       " 'LSR-203']"
      ]
     },
     "execution_count": 133,
     "metadata": {},
     "output_type": "execute_result"
    }
   ],
   "source": [
    "l_neg.insert(2, 'LLGL2-010')\n",
    "l_neg.insert(7, 'DENND1C-213')\n",
    "l_neg.insert(8, 'EPCAM-205')\n",
    "l_neg"
   ]
  },
  {
   "cell_type": "code",
   "execution_count": 134,
   "metadata": {},
   "outputs": [
    {
     "name": "stderr",
     "output_type": "stream",
     "text": [
      "<ipython-input-134-5f6c381d3512>:4: UserWarning: FixedFormatter should only be used together with FixedLocator\n",
      "  pl.set_xticklabels(labels=l_pos, rotation=45)\n"
     ]
    },
    {
     "data": {
      "image/png": "[encoded data removed]",
      "text/plain": [
       "<Figure size 432x288 with 1 Axes>"
      ]
     },
     "metadata": {
      "needs_background": "light"
     },
     "output_type": "display_data"
    }
   ],
   "source": [
    "import matplotlib.pyplot as plt\n",
    "\n",
    "pl = df_pos_pl.plot.scatter(x='ENST', y='corr')\n",
    "pl.set_xticklabels(labels=l_pos, rotation=45)\n",
    "pl.set_xlabel('Genes')\n",
    "pl.set_ylabel('Spearman correlation')\n",
    "plt.tight_layout()\n",
    "#pl.get_figure().savefig('poscorr_top_10.png', dpi=300)"
   ]
  },
  {
   "cell_type": "code",
   "execution_count": 142,
   "metadata": {},
   "outputs": [],
   "source": [
    "df_pos_pl['Gene names'] = l_pos\n",
    "df_neg_pl['Gene names'] = l_neg\n",
    "df_pos_pl = df_pos_pl.set_index('Gene names')\n",
    "df_neg_pl = df_neg_pl.set_index('Gene names')\n",
    "\n",
    "df_neg_pl.to_csv('Negative_corr.csv', index=True)\n",
    "df_pos_pl.to_csv('Positive_corr.csv', index=True)"
   ]
  },
  {
   "cell_type": "code",
   "execution_count": 136,
   "metadata": {},
   "outputs": [
    {
     "name": "stderr",
     "output_type": "stream",
     "text": [
      "<ipython-input-136-cd3472b00c3d>:2: UserWarning: FixedFormatter should only be used together with FixedLocator\n",
      "  pl.set_xticklabels(labels=l_neg, rotation=45)\n"
     ]
    },
    {
     "data": {
      "image/png": "[encoded data removed]",
      "text/plain": [
       "<Figure size 432x288 with 1 Axes>"
      ]
     },
     "metadata": {
      "needs_background": "light"
     },
     "output_type": "display_data"
    }
   ],
   "source": [
    "pl = df_neg_pl.plot.scatter(x='ENST', y='corr')\n",
    "pl.set_xticklabels(labels=l_neg, rotation=45)\n",
    "pl.set_xlabel('Genes')\n",
    "pl.set_ylabel('Spearman correlation')\n",
    "plt.tight_layout()\n",
    "#pl.get_figure().savefig('negcorr_top_10.png', dpi=300)"
   ]
  },
  {
   "cell_type": "code",
   "execution_count": null,
   "metadata": {},
   "outputs": [],
   "source": []
  },
  {
   "cell_type": "code",
   "execution_count": null,
   "metadata": {},
   "outputs": [],
   "source": []
  },
  {
   "cell_type": "code",
   "execution_count": 34,
   "metadata": {},
   "outputs": [
    {
     "data": {
      "text/plain": [
       "['ENST00000577500', 'ENST00000591795', 'ENST00000474691']"
      ]
     },
     "execution_count": 34,
     "metadata": {},
     "output_type": "execute_result"
    }
   ],
   "source": [
    "out"
   ]
  },
  {
   "cell_type": "code",
   "execution_count": 130,
   "metadata": {},
   "outputs": [
    {
     "data": {
      "image/png": "[encoded data removed]",
      "text/plain": [
       "<Figure size 432x288 with 1 Axes>"
      ]
     },
     "metadata": {
      "needs_background": "light"
     },
     "output_type": "display_data"
    }
   ],
   "source": [
    "# correlation between difference and #1 gene \n",
    "header_df = df.columns.to_list()\n",
    "x2 = df.loc[\"difference\"].to_list()\n",
    "y2 = df.loc[\"ENST00000425428.2\"].to_list()\n",
    "df_f = pd.DataFrame(x2, columns = ['diff'])\n",
    "df_f['gene'] = y2\n",
    "df_f['tissue'] = header_df\n",
    "df_f = df_f.sort_values(by=['diff'])\n",
    "pl = df_f.plot.scatter(x='diff', y='gene')\n",
    "#pl.get_figure().savefig('diff_gene.png', dpi=300)"
   ]
  },
  {
   "cell_type": "code",
   "execution_count": 131,
   "metadata": {},
   "outputs": [
    {
     "data": {
      "image/png": "[encoded data removed]",
      "text/plain": [
       "<Figure size 432x288 with 1 Axes>"
      ]
     },
     "metadata": {
      "needs_background": "light"
     },
     "output_type": "display_data"
    }
   ],
   "source": [
    "x2 = df.loc[\"difference\"].to_list()\n",
    "y2 = df.loc[\"ENST00000278742.5\"].to_list()\n",
    "df_f = pd.DataFrame(x2, columns = ['diff'])\n",
    "df_f['gene'] = y2\n",
    "df_f['tissue'] = header_df\n",
    "df_f = df_f.sort_values(by=['diff'])\n",
    "pl = df_f.plot.scatter(x='diff', y='gene')\n",
    "#pl.get_figure().savefig('diff_gene.png', dpi=300)"
   ]
  },
  {
   "cell_type": "code",
   "execution_count": null,
   "metadata": {},
   "outputs": [],
   "source": []
  }
 ],
 "metadata": {
  "kernelspec": {
   "display_name": "Python 3",
   "language": "python",
   "name": "python3"
  },
  "language_info": {
   "codemirror_mode": {
    "name": "ipython",
    "version": 3
   },
   "file_extension": ".py",
   "mimetype": "text/x-python",
   "name": "python",
   "nbconvert_exporter": "python",
   "pygments_lexer": "ipython3",
   "version": "3.8.5"
  }
 },
 "nbformat": 4,
 "nbformat_minor": 4
}
